{
 "cells": [
  {
   "cell_type": "code",
   "execution_count": 2,
   "id": "1d6a6335",
   "metadata": {},
   "outputs": [
    {
     "name": "stdout",
     "output_type": "stream",
     "text": [
      "Hello Numpy\n"
     ]
    }
   ],
   "source": [
    "print(\"Hello Numpy\")"
   ]
  },
  {
   "cell_type": "code",
   "execution_count": 1,
   "id": "23434584",
   "metadata": {},
   "outputs": [],
   "source": [
    "import numpy as np\n",
    "import sys"
   ]
  },
  {
   "cell_type": "code",
   "execution_count": 6,
   "id": "3bf6c274",
   "metadata": {},
   "outputs": [
    {
     "name": "stdout",
     "output_type": "stream",
     "text": [
      "[1 2 3 4 5]\n"
     ]
    }
   ],
   "source": [
    "# creating an array\n",
    "array1 = np.array([1,2,3,4,5]) # one dimensional array\n",
    "print(array1)"
   ]
  },
  {
   "cell_type": "code",
   "execution_count": 5,
   "id": "1464fa91",
   "metadata": {},
   "outputs": [
    {
     "name": "stdout",
     "output_type": "stream",
     "text": [
      "[[1. 2. 3.]\n",
      " [4. 5. 6.]]\n"
     ]
    }
   ],
   "source": [
    "# we can initialize 2d array of floats\n",
    "array2 = np.array([[1.0,2,3.0],[4,5,6.0]]) # two dimensional array like matrix\n",
    "print(array2)"
   ]
  },
  {
   "cell_type": "code",
   "execution_count": 7,
   "id": "5b1f65b6",
   "metadata": {},
   "outputs": [
    {
     "name": "stdout",
     "output_type": "stream",
     "text": [
      "1\n",
      "2\n"
     ]
    }
   ],
   "source": [
    "# get dimensions of an array\n",
    "# ndim - number of dimensions\n",
    "print(array1.ndim)\n",
    "print(array2.ndim)"
   ]
  },
  {
   "cell_type": "code",
   "execution_count": 8,
   "id": "34a88850",
   "metadata": {},
   "outputs": [
    {
     "name": "stdout",
     "output_type": "stream",
     "text": [
      "(5,)\n",
      "(2, 3)\n"
     ]
    }
   ],
   "source": [
    "# get shape of the array\n",
    "# returns tuple of len = (number of dimensions)\n",
    "# each value in the tuple is size of each dimension in order \n",
    "print(array1.shape) \n",
    "print(array2.shape)"
   ]
  },
  {
   "cell_type": "code",
   "execution_count": 11,
   "id": "220a3af8",
   "metadata": {},
   "outputs": [
    {
     "name": "stdout",
     "output_type": "stream",
     "text": [
      "int32\n",
      "float64\n"
     ]
    }
   ],
   "source": [
    "# get the type of the array\n",
    "# numpy arrays can contain only one datatype in the array\n",
    "# for eg., it must contain all int or all floats, no mix of float and ints like lists\n",
    "print(array1.dtype)\n",
    "print(array2.dtype)"
   ]
  },
  {
   "cell_type": "code",
   "execution_count": 12,
   "id": "bc0aa683",
   "metadata": {},
   "outputs": [
    {
     "name": "stdout",
     "output_type": "stream",
     "text": [
      "4\n",
      "8\n"
     ]
    }
   ],
   "source": [
    "# get the data size of any of the item inside the numpy array\n",
    "print(array1.itemsize) # returns number of bytes of an element in the array\n",
    "print(array2.itemsize) # returns number of bytes of an element in the array"
   ]
  },
  {
   "cell_type": "code",
   "execution_count": 13,
   "id": "db560c32",
   "metadata": {},
   "outputs": [
    {
     "name": "stdout",
     "output_type": "stream",
     "text": [
      "5\n",
      "6\n"
     ]
    }
   ],
   "source": [
    "# get the total size of the array\n",
    "# it returns total number of elements in the whole array\n",
    "print(array1.size) # 5\n",
    "print(array2.size) # 2*3"
   ]
  },
  {
   "cell_type": "code",
   "execution_count": 15,
   "id": "ec3795f8",
   "metadata": {},
   "outputs": [
    {
     "name": "stdout",
     "output_type": "stream",
     "text": [
      "20\n",
      "20\n",
      "48\n",
      "48\n"
     ]
    }
   ],
   "source": [
    "# get total memory size of the array\n",
    "print(array1.itemsize * array1.size)\n",
    "print(array1.nbytes) # sends us the total number of bytes required to store the whole array\n",
    "print(array2.itemsize * array2.size)\n",
    "print(array2.nbytes) # sends us the total number of bytes required to store the whole array"
   ]
  },
  {
   "cell_type": "code",
   "execution_count": 18,
   "id": "ace9632f",
   "metadata": {},
   "outputs": [
    {
     "name": "stdout",
     "output_type": "stream",
     "text": [
      "[1. 2. 3. 4. 5.] float64\n"
     ]
    }
   ],
   "source": [
    "# initialize datatype along with the array\n",
    "array3 = np.array([1,2,3,4,5], dtype = \"float64\")\n",
    "print(array3, array3.dtype)"
   ]
  },
  {
   "cell_type": "code",
   "execution_count": 19,
   "id": "b7bc0d7b",
   "metadata": {},
   "outputs": [
    {
     "name": "stdout",
     "output_type": "stream",
     "text": [
      "array =  [[1. 2. 3. 4. 5.]\n",
      " [2. 3. 4. 5. 6.]]\n",
      "Number of Dimensions =  2\n",
      "Shape of the array =  (2, 5)\n",
      "DataType of the element of the array =  float64\n",
      "size of the array (Total no. of elements) =  10\n",
      "Bytes of the element of the array =  8\n",
      "Total memory size of the array in bytes =  80\n"
     ]
    }
   ],
   "source": [
    "# summary\n",
    "array4 = np.array([[1,2,3,4,5], [2,3,4,5,6]], dtype = \"float64\")\n",
    "print(\"array = \", array4)\n",
    "print(\"Number of Dimensions = \", array4.ndim)\n",
    "print(\"Shape of the array = \", array4.shape)\n",
    "print(\"DataType of the element of the array = \", array4.dtype)\n",
    "print(\"size of the array (Total no. of elements) = \", array4.size)\n",
    "print(\"Bytes of the element of the array = \", array4.itemsize)\n",
    "print(\"Total memory size of the array in bytes = \", array4.nbytes)"
   ]
  },
  {
   "cell_type": "code",
   "execution_count": 37,
   "id": "c97f6460",
   "metadata": {},
   "outputs": [
    {
     "name": "stdout",
     "output_type": "stream",
     "text": [
      "[[ 1  2  3  4  5  6  7]\n",
      " [ 8  9 10 11 12 13 14]]\n"
     ]
    }
   ],
   "source": [
    "array5 = np.array([[1,2,3,4,5,6,7],[8,9,10,11,12,13,14]])\n",
    "print(array5)"
   ]
  },
  {
   "cell_type": "code",
   "execution_count": 29,
   "id": "6e4e6482",
   "metadata": {},
   "outputs": [
    {
     "name": "stdout",
     "output_type": "stream",
     "text": [
      "8\n",
      "8\n",
      "14\n",
      "14\n"
     ]
    }
   ],
   "source": [
    "# get specific element of the array\n",
    "# 2d array = [row, col]\n",
    "# tensors = [ind1, ind2, ind3,... ]\n",
    "print(array5[1,0])\n",
    "print(array5[-1,0]) # we can also use negative indices like lists\n",
    "print(array5[-1,-1])\n",
    "# print(array5[-1][-1]) - don't use this syntax, it has ambiguity"
   ]
  },
  {
   "cell_type": "code",
   "execution_count": 31,
   "id": "1b7fae51",
   "metadata": {},
   "outputs": [
    {
     "name": "stdout",
     "output_type": "stream",
     "text": [
      "[1 2 3 4 5 6 7]\n",
      "[1 2 3 4 5 6 7]\n",
      "[1 2 3 4 5 6 7]\n"
     ]
    }
   ],
   "source": [
    "# get a specific row of the array\n",
    "# this method can also be done in lists\n",
    "print(array5[0])\n",
    "# \":\" will iterate through all the elements in that dimension \n",
    "print(array5[0, :])\n",
    "# print(array5[0][:]) - don't use this syntax, it has ambiguity"
   ]
  },
  {
   "cell_type": "code",
   "execution_count": 32,
   "id": "ab8bf0b3",
   "metadata": {},
   "outputs": [
    {
     "name": "stdout",
     "output_type": "stream",
     "text": [
      "[2 9]\n"
     ]
    }
   ],
   "source": [
    "# get a specific column of the array\n",
    "# this method cannot also be done in lists\n",
    "# : says iterate through all the rows and give us \n",
    "print(array5[:, 1])\n",
    "# print(array5[:][1]) - don't use this syntax, it has ambiguity"
   ]
  },
  {
   "cell_type": "code",
   "execution_count": 35,
   "id": "0893aa5d",
   "metadata": {},
   "outputs": [
    {
     "name": "stdout",
     "output_type": "stream",
     "text": [
      "[ 9 10 11 12 13]\n",
      "[ 9 11 13]\n"
     ]
    }
   ],
   "source": [
    "# Slice numpy arrays\n",
    "# syntax - array[startind1:endind1:stepsize1, startind2:endind2:stepsize2, startind3:endind3:stepsize3,... ]\n",
    "\n",
    "# we will get 9 to 13 elements\n",
    "print(array5[1, 1:-1])\n",
    "\n",
    "# we will get 9 to 13 elements, by skipping one element\n",
    "print(array5[1, 1:-1:2])"
   ]
  },
  {
   "cell_type": "code",
   "execution_count": 46,
   "id": "ceb84c75",
   "metadata": {},
   "outputs": [
    {
     "name": "stdout",
     "output_type": "stream",
     "text": [
      "[[ 1  2  3  4  5  6  7]\n",
      " [ 8  9 10 11 12 13 14]] before\n",
      "[[ 1  2  3  4  5  6  7]\n",
      " [ 8  9 10 11 12 20 14]] after\n",
      "--------------------------------------------\n",
      "[[ 1  2  3  4  5  6  7]\n",
      " [ 8  9 10 11 12 13 14]] before\n",
      "[[ 1  2 20  4  5  6  7]\n",
      " [ 8  9 20 11 12 13 14]] after\n",
      "--------------------------------------------\n",
      "[[ 1  2  3  4  5  6  7]\n",
      " [ 8  9 10 11 12 13 14]] before\n",
      "[[  1   2  99   4   5   6   7]\n",
      " [  8   9 100  11  12  13  14]] after\n",
      "--------------------------------------------\n",
      "[[ 1  2  3  4  5  6  7]\n",
      " [ 8  9 10 11 12 13 14]] before\n",
      "[[ 99 100 101 102 103 104 105]\n",
      " [  8   9  10  11  12  13  14]] after\n",
      "--------------------------------------------\n"
     ]
    }
   ],
   "source": [
    "# edit elements in the numpy array\n",
    "\n",
    "# change a single element\n",
    "array5 = np.array([[1,2,3,4,5,6,7],[8,9,10,11,12,13,14]])\n",
    "print(array5, \"before\")\n",
    "array5[1,5] = 20\n",
    "print(array5, \"after\")\n",
    "print(\"--------------------------------------------\")\n",
    "\n",
    "# change all elements in a column to the same value\n",
    "array5 = np.array([[1,2,3,4,5,6,7],[8,9,10,11,12,13,14]])\n",
    "print(array5, \"before\")\n",
    "array5[:, 2] = 20\n",
    "print(array5, \"after\")\n",
    "print(\"--------------------------------------------\")\n",
    "\n",
    "# change all elements in a column to different values\n",
    "array5 = np.array([[1,2,3,4,5,6,7],[8,9,10,11,12,13,14]])\n",
    "print(array5, \"before\")\n",
    "array5[:, 2] = [99,100] # we can either pass in list or numpy array but they must be of same dimensions\n",
    "print(array5, \"after\")\n",
    "print(\"--------------------------------------------\")\n",
    "\n",
    "# change all elements in a row to different values\n",
    "array5 = np.array([[1,2,3,4,5,6,7],[8,9,10,11,12,13,14]])\n",
    "print(array5, \"before\")\n",
    "array5[0, :] = np.array([99, 100, 101, 102, 103, 104, 105]) # we can either pass in list or numpy array\n",
    "print(array5, \"after\")\n",
    "print(\"--------------------------------------------\")"
   ]
  },
  {
   "cell_type": "code",
   "execution_count": 47,
   "id": "ed5e0293",
   "metadata": {},
   "outputs": [],
   "source": [
    "# Initialize different types of arrays"
   ]
  },
  {
   "cell_type": "code",
   "execution_count": 52,
   "id": "95e0afc2",
   "metadata": {},
   "outputs": [
    {
     "name": "stdout",
     "output_type": "stream",
     "text": [
      "[[[0. 0. 0.]\n",
      "  [0. 0. 0.]]]\n",
      "[[[0 0 0]\n",
      "  [0 0 0]]]\n"
     ]
    }
   ],
   "source": [
    "# Initialize array full of 0's\n",
    "print(np.zeros((1,2,3))) # we need to specify shape of the array in brackets as argument - float64 is returned as default\n",
    "print(np.zeros((1,2,3), dtype=\"int32\")) # we need to specify shape of the array in brackets as argument"
   ]
  },
  {
   "cell_type": "code",
   "execution_count": 54,
   "id": "46b153ea",
   "metadata": {},
   "outputs": [
    {
     "name": "stdout",
     "output_type": "stream",
     "text": [
      "[[1. 1. 1.]\n",
      " [1. 1. 1.]]\n",
      "[[1 1 1]\n",
      " [1 1 1]]\n"
     ]
    }
   ],
   "source": [
    "# Initialize array full of 1's\n",
    "print(np.ones((2,3))) # we need to specify shape of the array in brackets as argument - float64 is returned as default\n",
    "print(np.ones((2,3), dtype=\"int32\")) # we need to specify shape of the array in brackets as argument"
   ]
  },
  {
   "cell_type": "code",
   "execution_count": 57,
   "id": "661926db",
   "metadata": {},
   "outputs": [
    {
     "name": "stdout",
     "output_type": "stream",
     "text": [
      "[[9 9 9]\n",
      " [9 9 9]]\n",
      "[[9 9 9]\n",
      " [9 9 9]]\n"
     ]
    }
   ],
   "source": [
    "# other than 1's and 0's what if we wanna create an array full of different same value\n",
    "print(np.full((2,3), 9)) # we need to specify shape in brackets and the value\n",
    "print(np.full((2,3), 9, dtype=\"int32\")) # we need to specify shape in brackets and the values in the array"
   ]
  },
  {
   "cell_type": "code",
   "execution_count": null,
   "id": "aebaa0ed",
   "metadata": {},
   "outputs": [],
   "source": [
    "# create array with random values, numpy random"
   ]
  },
  {
   "cell_type": "code",
   "execution_count": 60,
   "id": "30dd2eda",
   "metadata": {},
   "outputs": [
    {
     "name": "stdout",
     "output_type": "stream",
     "text": [
      "[[0.0987358  0.15076905]\n",
      " [0.65262975 0.03514364]\n",
      " [0.26276471 0.4489846 ]\n",
      " [0.50061028 0.15056049]]\n",
      "[[0.08314779 0.98196126 0.02380028 0.31592825 0.5462879  0.99828467\n",
      "  0.93057831]\n",
      " [0.90874365 0.92666272 0.01839651 0.16089518 0.7789033  0.3106976\n",
      "  0.86698865]]\n"
     ]
    }
   ],
   "source": [
    "# array of random float numbers\n",
    "# all the numbers are inbetween 0 and 1\n",
    "print(np.random.rand(4,2)) # pass in the shape directly rather than specifying them in brackets or tuples\n",
    "print(np.random.rand(*array5.shape)) # *(2,7) -> 2,7"
   ]
  },
  {
   "cell_type": "code",
   "execution_count": 63,
   "id": "41b213bd",
   "metadata": {},
   "outputs": [
    {
     "name": "stdout",
     "output_type": "stream",
     "text": [
      "[[1 9 4]\n",
      " [7 3 6]\n",
      " [7 1 2]\n",
      " [8 7 0]]\n",
      "[[4 2 7]\n",
      " [6 0 7]\n",
      " [9 5 6]\n",
      " [6 3 9]]\n"
     ]
    }
   ],
   "source": [
    "# array of random integers\n",
    "# low (inclusive) to high (exclusive)\n",
    "# np.random.randint(low, high=None, size=None, dtype=int)\n",
    "print(np.random.randint(0, 10, (4,3)))\n",
    "print(np.random.randint(10, size=(4,3))) # the above line and this line is the same\n",
    "# if we didn't specify low, then default value for low is 0 and size name must be specified"
   ]
  },
  {
   "cell_type": "code",
   "execution_count": 64,
   "id": "1bf1a324",
   "metadata": {},
   "outputs": [
    {
     "name": "stdout",
     "output_type": "stream",
     "text": [
      "[[1. 0. 0.]\n",
      " [0. 1. 0.]\n",
      " [0. 0. 1.]]\n"
     ]
    }
   ],
   "source": [
    "# create identity matrix of size n x n\n",
    "# we need to pass n as argument\n",
    "print(np.identity(3))"
   ]
  },
  {
   "cell_type": "code",
   "execution_count": 5,
   "id": "7e02e093",
   "metadata": {},
   "outputs": [
    {
     "name": "stdout",
     "output_type": "stream",
     "text": [
      "[[ 1  2  3  4  5  6  7]\n",
      " [ 8  9 10 11 12 13 14]] array5\n",
      "[[100   2   3   4   5   6   7]\n",
      " [  8   9  10  11  12  13  14]] array5\n",
      "[[ 1  2  3  4  5  6  7]\n",
      " [ 8  9 10 11 12 13 14]] array5\n",
      "[[ 1  2  3  4  5  6  7]\n",
      " [ 8  9 10 11 12 13 14]] array5\n"
     ]
    }
   ],
   "source": [
    "# copying is same as lists\n",
    "# you need to copy the function to a new variable rather than directly assigning it to it\n",
    "\n",
    "# wrong thing to do\n",
    "array5 = np.array([[1,2,3,4,5,6,7],[8,9,10,11,12,13,14]])\n",
    "print(array5, \"array5\")\n",
    "array6 = array5\n",
    "array6[0,0] = 100\n",
    "print(array5, \"array5\")\n",
    "\n",
    "# Right thing to do\n",
    "array5 = np.array([[1,2,3,4,5,6,7],[8,9,10,11,12,13,14]])\n",
    "print(array5, \"array5\")\n",
    "array6 = array5.copy() # this is how we copy and assign an numpy array\n",
    "array6[0,0] = 100\n",
    "print(array5, \"array5\")"
   ]
  },
  {
   "cell_type": "code",
   "execution_count": 6,
   "id": "2896f9b2",
   "metadata": {},
   "outputs": [],
   "source": [
    "# Mathematics\n",
    "# https://numpy.org/doc/stable/reference/routines.math.html"
   ]
  },
  {
   "cell_type": "code",
   "execution_count": 7,
   "id": "d7021a82",
   "metadata": {},
   "outputs": [
    {
     "name": "stdout",
     "output_type": "stream",
     "text": [
      "[ 7  8  9 10 11 12]\n",
      "[-5 -4 -3 -2 -1  0]\n",
      "[0 0 0 0 0 0]\n",
      "[0 0 1 1 1 2]\n",
      "[ 1  4  9 16 25 36]\n"
     ]
    }
   ],
   "source": [
    "# Element wise math operations\n",
    "array7 = np.array([1,2,3,4,5,6])\n",
    "\n",
    "# addition\n",
    "print(array7 + 6)\n",
    "\n",
    "# subtraction\n",
    "print(array7 - 6)\n",
    "\n",
    "# multiplication\n",
    "print(array7 * 0)\n",
    "\n",
    "# division\n",
    "print(array7 // 3)\n",
    "\n",
    "# power\n",
    "print(array7**2)"
   ]
  },
  {
   "cell_type": "code",
   "execution_count": 10,
   "id": "88c23892",
   "metadata": {},
   "outputs": [
    {
     "name": "stdout",
     "output_type": "stream",
     "text": [
      "[2. 3. 4. 5. 6. 7.]\n"
     ]
    }
   ],
   "source": [
    "# add two arrays elementwise\n",
    "array7 = np.array([1,2,3,4,5,6])\n",
    "array8 = np.array([1,1,1,1,1,1], dtype=\"float64\")\n",
    "print(array7+array8)"
   ]
  },
  {
   "cell_type": "code",
   "execution_count": 17,
   "id": "c366ec46",
   "metadata": {},
   "outputs": [
    {
     "name": "stdout",
     "output_type": "stream",
     "text": [
      "[ 0.84147098  0.90929743  0.14112001 -0.7568025  -0.95892427 -0.2794155 ]\n",
      "[ 0.54030231 -0.41614684 -0.9899925  -0.65364362  0.28366219  0.96017029]\n",
      "[ 1.55740772 -2.18503986 -0.14254654  1.15782128 -3.38051501 -0.29100619]\n",
      "------------------------------------------\n",
      "[1.57079633 1.57079633 1.57079633 1.57079633 1.57079633 1.57079633]\n",
      "[0. 0. 0. 0. 0. 0.]\n",
      "[0.78539816 0.78539816 0.78539816 0.78539816 0.78539816 0.78539816]\n",
      "------------------------------------------\n",
      "[ 57.29577951 114.59155903 171.88733854 229.18311805 286.47889757\n",
      " 343.77467708]\n",
      "------------------------------------------\n",
      "[0.01745329 0.03490659 0.05235988 0.06981317 0.08726646 0.10471976]\n"
     ]
    }
   ],
   "source": [
    "# element wise trigonometry\n",
    "# numpy trigonometry functions take radians as input\n",
    "\n",
    "# sin, cos, tan\n",
    "print(np.sin(array7))\n",
    "print(np.cos(array7))\n",
    "print(np.tan(array7))\n",
    "print(\"------------------------------------------\")\n",
    "# sin inverse, cos inverse, tan inverse\n",
    "# output is in radians\n",
    "print(np.arcsin(array8))\n",
    "print(np.arccos(array8))\n",
    "print(np.arctan(array8))\n",
    "print(\"------------------------------------------\")\n",
    "# convert radians to degrees\n",
    "print(np.degrees(array7))\n",
    "print(\"------------------------------------------\")\n",
    "# convert degrees to radians\n",
    "print(np.radians(array7))"
   ]
  },
  {
   "cell_type": "code",
   "execution_count": 18,
   "id": "c124b570",
   "metadata": {},
   "outputs": [],
   "source": [
    "# Statistics"
   ]
  },
  {
   "cell_type": "code",
   "execution_count": 8,
   "id": "84238148",
   "metadata": {},
   "outputs": [],
   "source": [
    "array9 = np.array([[1,2,3],[4,5,6]])"
   ]
  },
  {
   "cell_type": "code",
   "execution_count": 9,
   "id": "9c60aca2",
   "metadata": {},
   "outputs": [
    {
     "name": "stdout",
     "output_type": "stream",
     "text": [
      "1 Minimum element over all the elements in the array\n",
      "[1 2 3] Minimum element in every column\n",
      "[1 4] Minimum element in every row\n"
     ]
    }
   ],
   "source": [
    "# np.min is same as np.amin\n",
    "\n",
    "# Minimum element over all the elements in the array\n",
    "print(np.min(array9), \"Minimum element over all the elements in the array\")\n",
    "\n",
    "# Minimum element in every column\n",
    "print(np.min(array9, axis=0), \"Minimum element in every column\")\n",
    "\n",
    "# Minimum element in every row\n",
    "print(np.min(array9, axis=1), \"Minimum element in every row\")"
   ]
  },
  {
   "cell_type": "code",
   "execution_count": 10,
   "id": "4d072d09",
   "metadata": {},
   "outputs": [
    {
     "name": "stdout",
     "output_type": "stream",
     "text": [
      "6 Maximum element over all the elements in the array\n",
      "[4 5 6] Maximum element in every column\n",
      "[3 6] Maximum element in every row\n"
     ]
    }
   ],
   "source": [
    "# np.max is same as np.amax\n",
    "\n",
    "# Maximum element over all the elements in the array\n",
    "print(np.max(array9), \"Maximum element over all the elements in the array\")\n",
    "\n",
    "# Maximum element in every column\n",
    "print(np.max(array9, axis=0), \"Maximum element in every column\")\n",
    "\n",
    "# Maximum element in every row\n",
    "print(np.max(array9, axis=1), \"Maximum element in every row\")"
   ]
  },
  {
   "cell_type": "code",
   "execution_count": 11,
   "id": "3e4a2b0e",
   "metadata": {},
   "outputs": [
    {
     "name": "stdout",
     "output_type": "stream",
     "text": [
      "1.0 Minimum element over all the elements excluding np.nan's in the array\n",
      "[1. 2.] Minimum element in every column excluding np.nan's\n",
      "9.0 Maximum element over all the elements excluding np.nan's in the array\n",
      "[2. 4. 7. 6. 9.] Maximum element in every row excluding np.nan's\n"
     ]
    }
   ],
   "source": [
    "# Return minimum or maximum of an array or minimum along an axis, ignoring any np.nan's\n",
    "array10 = np.array([[1,2],[3,4],[np.nan ,7],[6,np.nan],[8,9]])\n",
    "\n",
    "# Minimum element over all the elements excluding np.nan's in the array\n",
    "print(np.nanmin(array10), \"Minimum element over all the elements excluding np.nan's in the array\")\n",
    "\n",
    "# Minimum element in every column excluding np.nan's\n",
    "print(np.nanmin(array10, axis=0), \"Minimum element in every column excluding np.nan's\")\n",
    "\n",
    "# Maximum element over all the elements excluding np.nan's in the array\n",
    "print(np.nanmax(array10), \"Maximum element over all the elements excluding np.nan's in the array\")\n",
    "\n",
    "# Maximum element in every row excluding np.nan's\n",
    "print(np.nanmax(array10, axis=1), \"Maximum element in every row excluding np.nan's\")\n"
   ]
  },
  {
   "cell_type": "code",
   "execution_count": 26,
   "id": "b5d4c2ff",
   "metadata": {},
   "outputs": [
    {
     "name": "stdout",
     "output_type": "stream",
     "text": [
      "shape =  (2, 3)\n",
      "-----------------------------------------\n",
      "3.5\n",
      "[2.5 3.5 4.5]\n",
      "[2. 5.]\n",
      "-----------------------------------------\n",
      "2.6666666666666665\n",
      "[2. 3. 4.]\n",
      "[1.66666667 4.66666667]\n",
      "-----------------------------------------\n",
      "3.5\n",
      "[2.5 3.5 4.5]\n",
      "[2. 5.]\n",
      "-----------------------------------------\n",
      "1.707825127659933\n",
      "[1.5 1.5 1.5]\n",
      "[0.81649658 0.81649658]\n",
      "-----------------------------------------\n",
      "2.9166666666666665\n",
      "[2.25 2.25 2.25]\n",
      "[0.66666667 0.66666667]\n",
      "-----------------------------------------\n"
     ]
    }
   ],
   "source": [
    "# mean, median, standard deviation and variance\n",
    "array9 = np.array([[1,2,3],\n",
    "                   [4,5,6]])\n",
    "print(\"shape = \", array9.shape)\n",
    "print(\"-----------------------------------------\")\n",
    "\n",
    "# mean\n",
    "print(np.mean(array9)) # mean of all the elements in the array\n",
    "print(np.mean(array9, axis=0)) # mean in each column\n",
    "print(np.mean(array9, axis=1)) # mean in each row\n",
    "print(\"-----------------------------------------\")\n",
    "\n",
    "# find mean with weights\n",
    "print(np.average(array9, weights=np.arange(6,0,-1).reshape(array9.shape))) # average of all the elements in the array\n",
    "print(np.average(array9, axis=0, weights=np.arange(2,0,-1))) # average in each column\n",
    "print(np.average(array9, axis=1, weights=np.arange(3,0,-1))) # average in each row\n",
    "print(\"-----------------------------------------\")\n",
    "\n",
    "# median\n",
    "print(np.median(array9)) # median of all the elements in the array\n",
    "print(np.median(array9, axis=0)) # median in each column\n",
    "print(np.median(array9, axis=1)) # median in each row\n",
    "print(\"-----------------------------------------\")\n",
    "\n",
    "# standard deviation\n",
    "print(np.std(array9)) # std of all the elements in the array\n",
    "print(np.std(array9, axis=0)) # std in each column\n",
    "print(np.std(array9, axis=1)) # std in each row\n",
    "print(\"-----------------------------------------\")\n",
    "\n",
    "# variance\n",
    "print(np.var(array9)) # var of all the elements in the array\n",
    "print(np.var(array9, axis=0)) # var in each column\n",
    "print(np.var(array9, axis=1)) # var in each row\n",
    "print(\"-----------------------------------------\")\n",
    "\n",
    "# if the numpy array got np.nan inbetween them then we can use these functions\n",
    "# np.nanmean\n",
    "# np.nanmedian\n",
    "# np.nanstd\n",
    "# np.nanvar"
   ]
  },
  {
   "cell_type": "code",
   "execution_count": 27,
   "id": "2e08a85a",
   "metadata": {},
   "outputs": [],
   "source": [
    "# Reordering and Reorganizing arrays"
   ]
  },
  {
   "cell_type": "code",
   "execution_count": 28,
   "id": "b1b6cc51",
   "metadata": {},
   "outputs": [
    {
     "name": "stdout",
     "output_type": "stream",
     "text": [
      "(4, 6)\n"
     ]
    }
   ],
   "source": [
    "array11 = np.array([[1,2,3,4,5,6],\n",
    "                    [7,8,9,10,11,12],\n",
    "                    [13,14,15,16,17,18],\n",
    "                    [19,20,21,22,23,24]])\n",
    "print(array11.shape)"
   ]
  },
  {
   "cell_type": "code",
   "execution_count": 32,
   "id": "ab3ab645",
   "metadata": {},
   "outputs": [
    {
     "name": "stdout",
     "output_type": "stream",
     "text": [
      "[[ 1  2  3  4  5  6]\n",
      " [ 7  8  9 10 11 12]\n",
      " [13 14 15 16 17 18]\n",
      " [19 20 21 22 23 24]] before\n",
      "[[ 1  2  3]\n",
      " [ 4  5  6]\n",
      " [ 7  8  9]\n",
      " [10 11 12]\n",
      " [13 14 15]\n",
      " [16 17 18]\n",
      " [19 20 21]\n",
      " [22 23 24]] after\n",
      "[[ 1  2  3]\n",
      " [ 4  5  6]\n",
      " [ 7  8  9]\n",
      " [10 11 12]\n",
      " [13 14 15]\n",
      " [16 17 18]\n",
      " [19 20 21]\n",
      " [22 23 24]] again after\n"
     ]
    }
   ],
   "source": [
    "# reshape\n",
    "# change the shape of the array\n",
    "print(array11, \"before\")\n",
    "print(array11.reshape((8,3)), \"after\") # send in required shape within brackets as tuples\n",
    "# if we are lazy to calculate one of the shape, we can use -1, numpy will automaticall find the required shape\n",
    "print(array11.reshape((8,-1)), \"again after\")"
   ]
  },
  {
   "cell_type": "code",
   "execution_count": 40,
   "id": "0aa86947",
   "metadata": {},
   "outputs": [
    {
     "name": "stdout",
     "output_type": "stream",
     "text": [
      "[[1 2 3 4 5]\n",
      " [6 7 8 9 0]\n",
      " [1 2 3 4 5]\n",
      " [6 7 8 9 0]]\n",
      "------------------------------------------------\n",
      "[[1 2 3 4 5]\n",
      " [6 7 8 9 0]\n",
      " [1 2 3 4 5]\n",
      " [6 7 8 9 0]]\n"
     ]
    }
   ],
   "source": [
    "# vertically stacking arrays\n",
    "vector1 = np.array([1,2,3,4,5])\n",
    "vector2 = np.array([6,7,8,9,0])\n",
    "\n",
    "print(np.vstack((vector1, vector2, vector1, vector2))) # arguments must be specified in brackets or tuples  \n",
    "print(\"------------------------------------------------\")\n",
    "print(np.array([vector1, vector2, vector1, vector2])) #this line is same as the above line"
   ]
  },
  {
   "cell_type": "code",
   "execution_count": 45,
   "id": "1899f865",
   "metadata": {},
   "outputs": [
    {
     "name": "stdout",
     "output_type": "stream",
     "text": [
      "[1 2 3 4 5 6 7 8 9 0]\n",
      "------------------------------------------------\n",
      "[[1 1 1 0 0]\n",
      " [1 1 1 0 0]]\n"
     ]
    }
   ],
   "source": [
    "# horizontally stack arrays\n",
    "\n",
    "# example 1\n",
    "vector1 = np.array([1,2,3,4,5])\n",
    "vector2 = np.array([6,7,8,9,0])\n",
    "print(np.hstack((vector1, vector2))) # arguments must be specified in brackets or tuples  \n",
    "print(\"------------------------------------------------\")\n",
    "\n",
    "# example 2\n",
    "# for matrix(nxm) horizontal stacking, n of matrix1 must be equal to n of matrix2\n",
    "matrix1 = np.array([[1,1,1]\n",
    "                   ,[1,1,1]])\n",
    "matrix2 = np.array([[0,0]\n",
    "                   ,[0,0]])\n",
    "print(np.hstack((matrix1, matrix2)))"
   ]
  },
  {
   "cell_type": "code",
   "execution_count": 49,
   "id": "b69020be",
   "metadata": {},
   "outputs": [
    {
     "name": "stdout",
     "output_type": "stream",
     "text": [
      "[[ 1  2  3  4]\n",
      " [ 5  6  7  8]\n",
      " [ 9 10 11 12]\n",
      " [13 14 15 16]\n",
      " [17 18 19 20]] before flattening\n",
      "[ 1  2  3  4  5  6  7  8  9 10 11 12 13 14 15 16 17 18 19 20] after flattening\n"
     ]
    }
   ],
   "source": [
    "# flatten\n",
    "# convert any tensor to 1d array\n",
    "array12 = np.arange(1, 21).reshape((5,4))\n",
    "print(array12, \"before flattening\")\n",
    "print(array12.flatten(), \"after flattening\")"
   ]
  },
  {
   "cell_type": "code",
   "execution_count": 4,
   "id": "8dcd801d",
   "metadata": {},
   "outputs": [],
   "source": [
    "# Load and Save data\n",
    "import os"
   ]
  },
  {
   "cell_type": "code",
   "execution_count": 11,
   "id": "4968656a",
   "metadata": {},
   "outputs": [
    {
     "name": "stdout",
     "output_type": "stream",
     "text": [
      "[[  1.  13.  21.  11. 196.  75.   4.   3.  34.   6.   7.   8.   0.   1.\n",
      "    2.   3.   4.   5.]\n",
      " [  3.  42.  12.  33. 766.  75.   4.  55.   6.   4.   3.   4.   5.   6.\n",
      "    7.   0.  11.  12.]\n",
      " [  1.  22.  33.  11. 999.  11.   2.   1.  78.   0.   1.   2.   9.   8.\n",
      "    7.   1.  76.  88.]]\n",
      "[[  1  13  21  11 196  75   4   3  34   6   7   8   0   1   2   3   4   5]\n",
      " [  3  42  12  33 766  75   4  55   6   4   3   4   5   6   7   0  11  12]\n",
      " [  1  22  33  11 999  11   2   1  78   0   1   2   9   8   7   1  76  88]]\n",
      "(3, 18)\n"
     ]
    }
   ],
   "source": [
    "data = np.genfromtxt('./sampledata.txt', delimiter=',')\n",
    "print(data)\n",
    "# change datatype to int\n",
    "data = data.astype(\"int32\")\n",
    "print(data)\n",
    "print(data.shape)"
   ]
  },
  {
   "cell_type": "code",
   "execution_count": null,
   "id": "22988147",
   "metadata": {},
   "outputs": [],
   "source": []
  }
 ],
 "metadata": {
  "kernelspec": {
   "display_name": "Python 3",
   "language": "python",
   "name": "python3"
  },
  "language_info": {
   "codemirror_mode": {
    "name": "ipython",
    "version": 3
   },
   "file_extension": ".py",
   "mimetype": "text/x-python",
   "name": "python",
   "nbconvert_exporter": "python",
   "pygments_lexer": "ipython3",
   "version": "3.7.11"
  }
 },
 "nbformat": 4,
 "nbformat_minor": 5
}
