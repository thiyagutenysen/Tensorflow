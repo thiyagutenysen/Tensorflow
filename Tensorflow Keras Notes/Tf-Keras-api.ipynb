{
 "cells": [
  {
   "cell_type": "code",
   "execution_count": 1,
   "metadata": {},
   "outputs": [
    {
     "data": {
      "text/plain": [
       "'Start'"
      ]
     },
     "execution_count": 1,
     "metadata": {},
     "output_type": "execute_result"
    }
   ],
   "source": [
    "\"\"\"Start\"\"\""
   ]
  },
  {
   "cell_type": "code",
   "execution_count": 2,
   "metadata": {},
   "outputs": [],
   "source": [
    "import numpy as np"
   ]
  },
  {
   "cell_type": "code",
   "execution_count": 3,
   "metadata": {},
   "outputs": [],
   "source": [
    "import pandas as pd"
   ]
  },
  {
   "cell_type": "code",
   "execution_count": 4,
   "metadata": {},
   "outputs": [],
   "source": [
    "import matplotlib.pyplot as plt"
   ]
  },
  {
   "cell_type": "code",
   "execution_count": 5,
   "metadata": {},
   "outputs": [],
   "source": [
    "import pickle as pkl"
   ]
  },
  {
   "cell_type": "code",
   "execution_count": 6,
   "metadata": {},
   "outputs": [],
   "source": [
    "with open('mnist_data.pkl', 'rb') as f:\n",
    "    data = pkl.load(f)"
   ]
  },
  {
   "cell_type": "code",
   "execution_count": 7,
   "metadata": {},
   "outputs": [
    {
     "data": {
      "text/plain": [
       "dict"
      ]
     },
     "execution_count": 7,
     "metadata": {},
     "output_type": "execute_result"
    }
   ],
   "source": [
    "type(data)"
   ]
  },
  {
   "cell_type": "code",
   "execution_count": 8,
   "metadata": {},
   "outputs": [],
   "source": [
    "Data=pd.read_pickle('mnist_data.pkl')"
   ]
  },
  {
   "cell_type": "code",
   "execution_count": 9,
   "metadata": {},
   "outputs": [
    {
     "data": {
      "text/plain": [
       "dict"
      ]
     },
     "execution_count": 9,
     "metadata": {},
     "output_type": "execute_result"
    }
   ],
   "source": [
    "type(Data)"
   ]
  },
  {
   "cell_type": "code",
   "execution_count": 10,
   "metadata": {},
   "outputs": [
    {
     "data": {
      "text/plain": [
       "dict_keys(['trainLabels', 'testImages', 'testLabels', 'trainImages'])"
      ]
     },
     "execution_count": 10,
     "metadata": {},
     "output_type": "execute_result"
    }
   ],
   "source": [
    "data.keys()"
   ]
  },
  {
   "cell_type": "code",
   "execution_count": 11,
   "metadata": {},
   "outputs": [],
   "source": [
    "train_data = data['trainImages']"
   ]
  },
  {
   "cell_type": "code",
   "execution_count": 12,
   "metadata": {},
   "outputs": [],
   "source": [
    "train_data = np.array(train_data)"
   ]
  },
  {
   "cell_type": "code",
   "execution_count": 13,
   "metadata": {},
   "outputs": [
    {
     "data": {
      "text/plain": [
       "(800, 784)"
      ]
     },
     "execution_count": 13,
     "metadata": {},
     "output_type": "execute_result"
    }
   ],
   "source": [
    "train_data.shape"
   ]
  },
  {
   "cell_type": "code",
   "execution_count": 14,
   "metadata": {},
   "outputs": [],
   "source": [
    "train_label = np.array(data['trainLabels'])"
   ]
  },
  {
   "cell_type": "code",
   "execution_count": 15,
   "metadata": {},
   "outputs": [
    {
     "data": {
      "text/plain": [
       "(800,)"
      ]
     },
     "execution_count": 15,
     "metadata": {},
     "output_type": "execute_result"
    }
   ],
   "source": [
    "train_label.shape"
   ]
  },
  {
   "cell_type": "code",
   "execution_count": 16,
   "metadata": {},
   "outputs": [],
   "source": [
    "test_data = np.array(data['testImages'])"
   ]
  },
  {
   "cell_type": "code",
   "execution_count": 17,
   "metadata": {},
   "outputs": [
    {
     "data": {
      "text/plain": [
       "(200, 784)"
      ]
     },
     "execution_count": 17,
     "metadata": {},
     "output_type": "execute_result"
    }
   ],
   "source": [
    "test_data.shape"
   ]
  },
  {
   "cell_type": "code",
   "execution_count": 18,
   "metadata": {},
   "outputs": [],
   "source": [
    "test_label = np.array(data['testLabels'])"
   ]
  },
  {
   "cell_type": "code",
   "execution_count": 19,
   "metadata": {},
   "outputs": [],
   "source": [
    "train_data = pd.DataFrame(train_data)"
   ]
  },
  {
   "cell_type": "code",
   "execution_count": 20,
   "metadata": {},
   "outputs": [
    {
     "data": {
      "text/html": [
       "<div>\n",
       "<style scoped>\n",
       "    .dataframe tbody tr th:only-of-type {\n",
       "        vertical-align: middle;\n",
       "    }\n",
       "\n",
       "    .dataframe tbody tr th {\n",
       "        vertical-align: top;\n",
       "    }\n",
       "\n",
       "    .dataframe thead th {\n",
       "        text-align: right;\n",
       "    }\n",
       "</style>\n",
       "<table border=\"1\" class=\"dataframe\">\n",
       "  <thead>\n",
       "    <tr style=\"text-align: right;\">\n",
       "      <th></th>\n",
       "      <th>0</th>\n",
       "      <th>1</th>\n",
       "      <th>2</th>\n",
       "      <th>3</th>\n",
       "      <th>4</th>\n",
       "      <th>5</th>\n",
       "      <th>6</th>\n",
       "      <th>7</th>\n",
       "      <th>8</th>\n",
       "      <th>9</th>\n",
       "      <th>...</th>\n",
       "      <th>774</th>\n",
       "      <th>775</th>\n",
       "      <th>776</th>\n",
       "      <th>777</th>\n",
       "      <th>778</th>\n",
       "      <th>779</th>\n",
       "      <th>780</th>\n",
       "      <th>781</th>\n",
       "      <th>782</th>\n",
       "      <th>783</th>\n",
       "    </tr>\n",
       "  </thead>\n",
       "  <tbody>\n",
       "    <tr>\n",
       "      <th>0</th>\n",
       "      <td>0</td>\n",
       "      <td>0</td>\n",
       "      <td>0</td>\n",
       "      <td>0</td>\n",
       "      <td>0</td>\n",
       "      <td>0</td>\n",
       "      <td>0</td>\n",
       "      <td>0</td>\n",
       "      <td>0</td>\n",
       "      <td>0</td>\n",
       "      <td>...</td>\n",
       "      <td>0</td>\n",
       "      <td>0</td>\n",
       "      <td>0</td>\n",
       "      <td>0</td>\n",
       "      <td>0</td>\n",
       "      <td>0</td>\n",
       "      <td>0</td>\n",
       "      <td>0</td>\n",
       "      <td>0</td>\n",
       "      <td>0</td>\n",
       "    </tr>\n",
       "    <tr>\n",
       "      <th>1</th>\n",
       "      <td>0</td>\n",
       "      <td>0</td>\n",
       "      <td>0</td>\n",
       "      <td>0</td>\n",
       "      <td>0</td>\n",
       "      <td>0</td>\n",
       "      <td>0</td>\n",
       "      <td>0</td>\n",
       "      <td>0</td>\n",
       "      <td>0</td>\n",
       "      <td>...</td>\n",
       "      <td>0</td>\n",
       "      <td>0</td>\n",
       "      <td>0</td>\n",
       "      <td>0</td>\n",
       "      <td>0</td>\n",
       "      <td>0</td>\n",
       "      <td>0</td>\n",
       "      <td>0</td>\n",
       "      <td>0</td>\n",
       "      <td>0</td>\n",
       "    </tr>\n",
       "    <tr>\n",
       "      <th>2</th>\n",
       "      <td>0</td>\n",
       "      <td>0</td>\n",
       "      <td>0</td>\n",
       "      <td>0</td>\n",
       "      <td>0</td>\n",
       "      <td>0</td>\n",
       "      <td>0</td>\n",
       "      <td>0</td>\n",
       "      <td>0</td>\n",
       "      <td>0</td>\n",
       "      <td>...</td>\n",
       "      <td>0</td>\n",
       "      <td>0</td>\n",
       "      <td>0</td>\n",
       "      <td>0</td>\n",
       "      <td>0</td>\n",
       "      <td>0</td>\n",
       "      <td>0</td>\n",
       "      <td>0</td>\n",
       "      <td>0</td>\n",
       "      <td>0</td>\n",
       "    </tr>\n",
       "    <tr>\n",
       "      <th>3</th>\n",
       "      <td>0</td>\n",
       "      <td>0</td>\n",
       "      <td>0</td>\n",
       "      <td>0</td>\n",
       "      <td>0</td>\n",
       "      <td>0</td>\n",
       "      <td>0</td>\n",
       "      <td>0</td>\n",
       "      <td>0</td>\n",
       "      <td>0</td>\n",
       "      <td>...</td>\n",
       "      <td>0</td>\n",
       "      <td>0</td>\n",
       "      <td>0</td>\n",
       "      <td>0</td>\n",
       "      <td>0</td>\n",
       "      <td>0</td>\n",
       "      <td>0</td>\n",
       "      <td>0</td>\n",
       "      <td>0</td>\n",
       "      <td>0</td>\n",
       "    </tr>\n",
       "    <tr>\n",
       "      <th>4</th>\n",
       "      <td>0</td>\n",
       "      <td>0</td>\n",
       "      <td>0</td>\n",
       "      <td>0</td>\n",
       "      <td>0</td>\n",
       "      <td>0</td>\n",
       "      <td>0</td>\n",
       "      <td>0</td>\n",
       "      <td>0</td>\n",
       "      <td>0</td>\n",
       "      <td>...</td>\n",
       "      <td>0</td>\n",
       "      <td>0</td>\n",
       "      <td>0</td>\n",
       "      <td>0</td>\n",
       "      <td>0</td>\n",
       "      <td>0</td>\n",
       "      <td>0</td>\n",
       "      <td>0</td>\n",
       "      <td>0</td>\n",
       "      <td>0</td>\n",
       "    </tr>\n",
       "  </tbody>\n",
       "</table>\n",
       "<p>5 rows × 784 columns</p>\n",
       "</div>"
      ],
      "text/plain": [
       "   0    1    2    3    4    5    6    7    8    9    ...  774  775  776  777  \\\n",
       "0    0    0    0    0    0    0    0    0    0    0  ...    0    0    0    0   \n",
       "1    0    0    0    0    0    0    0    0    0    0  ...    0    0    0    0   \n",
       "2    0    0    0    0    0    0    0    0    0    0  ...    0    0    0    0   \n",
       "3    0    0    0    0    0    0    0    0    0    0  ...    0    0    0    0   \n",
       "4    0    0    0    0    0    0    0    0    0    0  ...    0    0    0    0   \n",
       "\n",
       "   778  779  780  781  782  783  \n",
       "0    0    0    0    0    0    0  \n",
       "1    0    0    0    0    0    0  \n",
       "2    0    0    0    0    0    0  \n",
       "3    0    0    0    0    0    0  \n",
       "4    0    0    0    0    0    0  \n",
       "\n",
       "[5 rows x 784 columns]"
      ]
     },
     "execution_count": 20,
     "metadata": {},
     "output_type": "execute_result"
    }
   ],
   "source": [
    "train_data.head()"
   ]
  },
  {
   "cell_type": "code",
   "execution_count": 21,
   "metadata": {},
   "outputs": [],
   "source": [
    "train_label = pd.DataFrame(train_label)"
   ]
  },
  {
   "cell_type": "code",
   "execution_count": 22,
   "metadata": {},
   "outputs": [
    {
     "data": {
      "text/html": [
       "<div>\n",
       "<style scoped>\n",
       "    .dataframe tbody tr th:only-of-type {\n",
       "        vertical-align: middle;\n",
       "    }\n",
       "\n",
       "    .dataframe tbody tr th {\n",
       "        vertical-align: top;\n",
       "    }\n",
       "\n",
       "    .dataframe thead th {\n",
       "        text-align: right;\n",
       "    }\n",
       "</style>\n",
       "<table border=\"1\" class=\"dataframe\">\n",
       "  <thead>\n",
       "    <tr style=\"text-align: right;\">\n",
       "      <th></th>\n",
       "      <th>0</th>\n",
       "    </tr>\n",
       "  </thead>\n",
       "  <tbody>\n",
       "    <tr>\n",
       "      <th>0</th>\n",
       "      <td>5</td>\n",
       "    </tr>\n",
       "    <tr>\n",
       "      <th>1</th>\n",
       "      <td>0</td>\n",
       "    </tr>\n",
       "    <tr>\n",
       "      <th>2</th>\n",
       "      <td>4</td>\n",
       "    </tr>\n",
       "    <tr>\n",
       "      <th>3</th>\n",
       "      <td>1</td>\n",
       "    </tr>\n",
       "    <tr>\n",
       "      <th>4</th>\n",
       "      <td>9</td>\n",
       "    </tr>\n",
       "  </tbody>\n",
       "</table>\n",
       "</div>"
      ],
      "text/plain": [
       "   0\n",
       "0  5\n",
       "1  0\n",
       "2  4\n",
       "3  1\n",
       "4  9"
      ]
     },
     "execution_count": 22,
     "metadata": {},
     "output_type": "execute_result"
    }
   ],
   "source": [
    "train_label.head()"
   ]
  },
  {
   "cell_type": "code",
   "execution_count": 23,
   "metadata": {},
   "outputs": [],
   "source": [
    "test_data = pd.DataFrame(test_data)"
   ]
  },
  {
   "cell_type": "code",
   "execution_count": 24,
   "metadata": {},
   "outputs": [],
   "source": [
    "test_label = pd.DataFrame(test_label)"
   ]
  },
  {
   "cell_type": "code",
   "execution_count": 25,
   "metadata": {},
   "outputs": [],
   "source": [
    "from sklearn.preprocessing import MinMaxScaler"
   ]
  },
  {
   "cell_type": "code",
   "execution_count": 26,
   "metadata": {},
   "outputs": [],
   "source": [
    "scaler = MinMaxScaler()"
   ]
  },
  {
   "cell_type": "code",
   "execution_count": 27,
   "metadata": {},
   "outputs": [
    {
     "data": {
      "text/plain": [
       "MinMaxScaler()"
      ]
     },
     "execution_count": 27,
     "metadata": {},
     "output_type": "execute_result"
    }
   ],
   "source": [
    "scaler.fit(test_data)"
   ]
  },
  {
   "cell_type": "code",
   "execution_count": 28,
   "metadata": {},
   "outputs": [],
   "source": [
    "scaled_train_data = scaler.transform(train_data)"
   ]
  },
  {
   "cell_type": "code",
   "execution_count": 29,
   "metadata": {},
   "outputs": [],
   "source": [
    "scaled_test_data = scaler.transform(test_data)"
   ]
  },
  {
   "cell_type": "code",
   "execution_count": 30,
   "metadata": {},
   "outputs": [
    {
     "data": {
      "text/plain": [
       "(800, 784)"
      ]
     },
     "execution_count": 30,
     "metadata": {},
     "output_type": "execute_result"
    }
   ],
   "source": [
    "scaled_train_data.shape"
   ]
  },
  {
   "cell_type": "code",
   "execution_count": 31,
   "metadata": {},
   "outputs": [
    {
     "data": {
      "text/plain": [
       "(200, 784)"
      ]
     },
     "execution_count": 31,
     "metadata": {},
     "output_type": "execute_result"
    }
   ],
   "source": [
    "scaled_test_data.shape"
   ]
  },
  {
   "cell_type": "code",
   "execution_count": 36,
   "metadata": {},
   "outputs": [
    {
     "name": "stdout",
     "output_type": "stream",
     "text": [
      "161\n",
      "255\n"
     ]
    }
   ],
   "source": [
    "print(train_data.iloc[0].argmax())\n",
    "print(train_data.iloc[0].max())"
   ]
  },
  {
   "cell_type": "code",
   "execution_count": 37,
   "metadata": {},
   "outputs": [
    {
     "name": "stdout",
     "output_type": "stream",
     "text": [
      "161\n",
      "1.0\n"
     ]
    }
   ],
   "source": [
    "print(scaled_train_data[0].argmax())\n",
    "print(scaled_train_data[0].max())"
   ]
  },
  {
   "cell_type": "code",
   "execution_count": 38,
   "metadata": {},
   "outputs": [],
   "source": [
    "import seaborn as sns"
   ]
  },
  {
   "cell_type": "code",
   "execution_count": 39,
   "metadata": {},
   "outputs": [
    {
     "data": {
      "text/plain": [
       "<Figure size 432x288 with 0 Axes>"
      ]
     },
     "execution_count": 39,
     "metadata": {},
     "output_type": "execute_result"
    },
    {
     "data": {
      "text/plain": [
       "<Figure size 432x288 with 0 Axes>"
      ]
     },
     "metadata": {},
     "output_type": "display_data"
    }
   ],
   "source": [
    "plt.figure()"
   ]
  },
  {
   "cell_type": "code",
   "execution_count": 40,
   "metadata": {},
   "outputs": [],
   "source": [
    "five = np.array(train_data.iloc[0])"
   ]
  },
  {
   "cell_type": "code",
   "execution_count": 41,
   "metadata": {},
   "outputs": [
    {
     "data": {
      "text/plain": [
       "(28, 28)"
      ]
     },
     "execution_count": 41,
     "metadata": {},
     "output_type": "execute_result"
    }
   ],
   "source": [
    "five=five.reshape((28,28))\n",
    "five.shape"
   ]
  },
  {
   "cell_type": "code",
   "execution_count": 42,
   "metadata": {},
   "outputs": [
    {
     "data": {
      "text/plain": [
       "numpy.ndarray"
      ]
     },
     "execution_count": 42,
     "metadata": {},
     "output_type": "execute_result"
    }
   ],
   "source": [
    "type(five)"
   ]
  },
  {
   "cell_type": "code",
   "execution_count": 43,
   "metadata": {},
   "outputs": [
    {
     "data": {
      "text/plain": [
       "<AxesSubplot:>"
      ]
     },
     "execution_count": 43,
     "metadata": {},
     "output_type": "execute_result"
    },
    {
     "data": {
      "image/png": "[encoded data removed]",
      "text/plain": [
       "<Figure size 432x288 with 2 Axes>"
      ]
     },
     "metadata": {
      "needs_background": "light"
     },
     "output_type": "display_data"
    }
   ],
   "source": [
    "sns.heatmap(five,cmap='Greys')"
   ]
  },
  {
   "cell_type": "code",
   "execution_count": 44,
   "metadata": {},
   "outputs": [
    {
     "data": {
      "text/plain": [
       "array([0, 1, 2, 3, 4, 5, 6, 7, 8, 9], dtype=uint8)"
      ]
     },
     "execution_count": 44,
     "metadata": {},
     "output_type": "execute_result"
    }
   ],
   "source": [
    "np.unique(train_label)"
   ]
  },
  {
   "cell_type": "code",
   "execution_count": 45,
   "metadata": {},
   "outputs": [],
   "source": [
    "import tensorflow as tf\n",
    "from tensorflow import keras\n",
    "from tensorflow.keras.models import Sequential\n",
    "from tensorflow.keras.layers import Activation,Dense\n",
    "from tensorflow.keras.optimizers import Adam\n",
    "from tensorflow.keras.metrics import categorical_crossentropy"
   ]
  },
  {
   "cell_type": "code",
   "execution_count": 46,
   "metadata": {},
   "outputs": [
    {
     "name": "stdout",
     "output_type": "stream",
     "text": [
      "number of GPUs available 1\n"
     ]
    }
   ],
   "source": [
    "physical_devices = tf.config.experimental.list_physical_devices('GPU')\n",
    "print('number of GPUs available', len(physical_devices))\n",
    "tf.config.experimental.set_memory_growth(physical_devices[0],True)"
   ]
  },
  {
   "cell_type": "code",
   "execution_count": 47,
   "metadata": {},
   "outputs": [],
   "source": [
    "no_of_features=scaled_train_data.shape[1]"
   ]
  },
  {
   "cell_type": "code",
   "execution_count": 48,
   "metadata": {},
   "outputs": [
    {
     "data": {
      "text/plain": [
       "10"
      ]
     },
     "execution_count": 48,
     "metadata": {},
     "output_type": "execute_result"
    }
   ],
   "source": [
    "no_of_classes = len(np.unique(train_label.values))\n",
    "no_of_classes"
   ]
  },
  {
   "cell_type": "code",
   "execution_count": 49,
   "metadata": {},
   "outputs": [
    {
     "name": "stdout",
     "output_type": "stream",
     "text": [
      "CPU times: user 1min 28s, sys: 1.47 s, total: 1min 30s\n",
      "Wall time: 1min 59s\n"
     ]
    }
   ],
   "source": [
    "%%time\n",
    "# Model Creation\n",
    "\n",
    "model = Sequential([\n",
    "    Dense(units=16, input_shape=(no_of_features,), activation='relu'), #this is first hidden layer and input layer too, with 16 nodes in hidden layer and input layer = input_layer(features,).\n",
    "    Dense(units=32, activation='relu'), # this is second hidden layer, here Dense is fully connected layer\n",
    "    Dense(units=no_of_classes, activation='softmax') # this is output layer with number of nodes = number of classes to classify\n",
    "])"
   ]
  },
  {
   "cell_type": "code",
   "execution_count": 50,
   "metadata": {},
   "outputs": [
    {
     "name": "stdout",
     "output_type": "stream",
     "text": [
      "Model: \"sequential\"\n",
      "_________________________________________________________________\n",
      "Layer (type)                 Output Shape              Param #   \n",
      "=================================================================\n",
      "dense (Dense)                (None, 16)                12560     \n",
      "_________________________________________________________________\n",
      "dense_1 (Dense)              (None, 32)                544       \n",
      "_________________________________________________________________\n",
      "dense_2 (Dense)              (None, 10)                330       \n",
      "=================================================================\n",
      "Total params: 13,434\n",
      "Trainable params: 13,434\n",
      "Non-trainable params: 0\n",
      "_________________________________________________________________\n"
     ]
    }
   ],
   "source": [
    "# print the model Architecture\n",
    "model.summary()"
   ]
  },
  {
   "cell_type": "code",
   "execution_count": 51,
   "metadata": {},
   "outputs": [],
   "source": [
    "# prepare the model for training\n",
    "model.compile(optimizer='adam', loss='sparse_categorical_crossentropy', metrics=['accuracy'])"
   ]
  },
  {
   "cell_type": "code",
   "execution_count": 52,
   "metadata": {},
   "outputs": [
    {
     "data": {
      "text/plain": [
       "pandas.core.frame.DataFrame"
      ]
     },
     "execution_count": 52,
     "metadata": {},
     "output_type": "execute_result"
    }
   ],
   "source": [
    "type(train_label)"
   ]
  },
  {
   "cell_type": "code",
   "execution_count": 57,
   "metadata": {},
   "outputs": [
    {
     "data": {
      "text/plain": [
       "array([[0., 0., 0., ..., 0., 0., 0.],\n",
       "       [0., 0., 0., ..., 0., 0., 0.],\n",
       "       [0., 0., 0., ..., 0., 0., 0.],\n",
       "       ...,\n",
       "       [0., 0., 0., ..., 0., 0., 0.],\n",
       "       [0., 0., 0., ..., 0., 0., 0.],\n",
       "       [0., 0., 0., ..., 0., 0., 0.]])"
      ]
     },
     "execution_count": 57,
     "metadata": {},
     "output_type": "execute_result"
    }
   ],
   "source": [
    "scaled_train_data"
   ]
  },
  {
   "cell_type": "code",
   "execution_count": 53,
   "metadata": {},
   "outputs": [
    {
     "name": "stdout",
     "output_type": "stream",
     "text": [
      "Epoch 1/30\n",
      "80/80 - 0s - loss: 2.3372 - accuracy: 0.2163\n",
      "Epoch 2/30\n",
      "80/80 - 0s - loss: 1.7164 - accuracy: 0.5113\n",
      "Epoch 3/30\n",
      "80/80 - 0s - loss: 1.1919 - accuracy: 0.7000\n",
      "Epoch 4/30\n",
      "80/80 - 0s - loss: 0.8118 - accuracy: 0.8062\n",
      "Epoch 5/30\n",
      "80/80 - 0s - loss: 0.5986 - accuracy: 0.8487\n",
      "Epoch 6/30\n",
      "80/80 - 0s - loss: 0.4607 - accuracy: 0.8850\n",
      "Epoch 7/30\n",
      "80/80 - 0s - loss: 0.3620 - accuracy: 0.8938\n",
      "Epoch 8/30\n",
      "80/80 - 0s - loss: 0.2923 - accuracy: 0.9237\n",
      "Epoch 9/30\n",
      "80/80 - 0s - loss: 0.2409 - accuracy: 0.9438\n",
      "Epoch 10/30\n",
      "80/80 - 0s - loss: 0.2025 - accuracy: 0.9488\n",
      "Epoch 11/30\n",
      "80/80 - 0s - loss: 0.1730 - accuracy: 0.9663\n",
      "Epoch 12/30\n",
      "80/80 - 0s - loss: 0.1433 - accuracy: 0.9725\n",
      "Epoch 13/30\n",
      "80/80 - 0s - loss: 0.1173 - accuracy: 0.9787\n",
      "Epoch 14/30\n",
      "80/80 - 0s - loss: 0.0967 - accuracy: 0.9862\n",
      "Epoch 15/30\n",
      "80/80 - 0s - loss: 0.0831 - accuracy: 0.9887\n",
      "Epoch 16/30\n",
      "80/80 - 0s - loss: 0.0704 - accuracy: 0.9912\n",
      "Epoch 17/30\n",
      "80/80 - 0s - loss: 0.0611 - accuracy: 0.9925\n",
      "Epoch 18/30\n",
      "80/80 - 0s - loss: 0.0511 - accuracy: 0.9962\n",
      "Epoch 19/30\n",
      "80/80 - 0s - loss: 0.0439 - accuracy: 0.9975\n",
      "Epoch 20/30\n",
      "80/80 - 0s - loss: 0.0384 - accuracy: 0.9975\n",
      "Epoch 21/30\n",
      "80/80 - 0s - loss: 0.0318 - accuracy: 0.9987\n",
      "Epoch 22/30\n",
      "80/80 - 0s - loss: 0.0276 - accuracy: 0.9987\n",
      "Epoch 23/30\n",
      "80/80 - 0s - loss: 0.0227 - accuracy: 1.0000\n",
      "Epoch 24/30\n",
      "80/80 - 0s - loss: 0.0201 - accuracy: 1.0000\n",
      "Epoch 25/30\n",
      "80/80 - 0s - loss: 0.0178 - accuracy: 1.0000\n",
      "Epoch 26/30\n",
      "80/80 - 0s - loss: 0.0155 - accuracy: 1.0000\n",
      "Epoch 27/30\n",
      "80/80 - 0s - loss: 0.0136 - accuracy: 1.0000\n",
      "Epoch 28/30\n",
      "80/80 - 0s - loss: 0.0122 - accuracy: 1.0000\n",
      "Epoch 29/30\n",
      "80/80 - 0s - loss: 0.0106 - accuracy: 1.0000\n",
      "Epoch 30/30\n",
      "80/80 - 0s - loss: 0.0097 - accuracy: 1.0000\n",
      "CPU times: user 6.88 s, sys: 556 ms, total: 7.44 s\n",
      "Wall time: 9.43 s\n"
     ]
    },
    {
     "data": {
      "text/plain": [
       "<tensorflow.python.keras.callbacks.History at 0x7f64885a07f0>"
      ]
     },
     "execution_count": 53,
     "metadata": {},
     "output_type": "execute_result"
    }
   ],
   "source": [
    "%%time\n",
    "# Training happens here\n",
    "model.fit(\n",
    "        x = scaled_train_data,\n",
    "        y = train_label.values,\n",
    "        batch_size = 10,   # as batch size increses runtime decreases but required memory to process all these data at one is high\n",
    "        epochs = 30, # how many print statements do u wanna see, or how many times do we wanna train the model with the same dataset\n",
    "        verbose = 2 # 2- we can see full info, 1- we can see min info, 0- we cannot see any info printed in screen\n",
    ")\n",
    "# batch size is how many samples do we need to send in to the model at a time\n",
    "# iteration is how many batches should we send into the model to cover the dataset, or number of iterations\n",
    "# here epoch = 30 means 800 samples are sent into the model for training 30 times.\n",
    "# therefore as epoch increases model overfits training data"
   ]
  },
  {
   "cell_type": "code",
   "execution_count": 58,
   "metadata": {},
   "outputs": [
    {
     "data": {
      "text/plain": [
       "' the above print statement \\n    Epoch epoch/30\\n    iteration/80 -time to process one epoch - loss - accuracy\\n'"
      ]
     },
     "execution_count": 58,
     "metadata": {},
     "output_type": "execute_result"
    }
   ],
   "source": [
    "\"\"\" the above print statement \n",
    "    Epoch epoch/30\n",
    "    iteration/80 -time to process one epoch - loss - accuracy\n",
    "\"\"\""
   ]
  },
  {
   "cell_type": "code",
   "execution_count": 59,
   "metadata": {},
   "outputs": [],
   "source": [
    "#In the above cell 80 is number of iterations, iterations(80)*batch_size(10) = size of data(800) "
   ]
  },
  {
   "cell_type": "code",
   "execution_count": 60,
   "metadata": {},
   "outputs": [
    {
     "name": "stdout",
     "output_type": "stream",
     "text": [
      "Epoch 1/30\n",
      "72/72 - 0s - loss: 0.0084 - accuracy: 1.0000 - val_loss: 0.0110 - val_accuracy: 1.0000\n",
      "Epoch 2/30\n",
      "72/72 - 0s - loss: 0.0078 - accuracy: 1.0000 - val_loss: 0.0118 - val_accuracy: 1.0000\n",
      "Epoch 3/30\n",
      "72/72 - 0s - loss: 0.0069 - accuracy: 1.0000 - val_loss: 0.0124 - val_accuracy: 1.0000\n",
      "Epoch 4/30\n",
      "72/72 - 0s - loss: 0.0063 - accuracy: 1.0000 - val_loss: 0.0124 - val_accuracy: 1.0000\n",
      "Epoch 5/30\n",
      "72/72 - 0s - loss: 0.0058 - accuracy: 1.0000 - val_loss: 0.0129 - val_accuracy: 1.0000\n",
      "Epoch 6/30\n",
      "72/72 - 0s - loss: 0.0052 - accuracy: 1.0000 - val_loss: 0.0124 - val_accuracy: 1.0000\n",
      "Epoch 7/30\n",
      "72/72 - 0s - loss: 0.0049 - accuracy: 1.0000 - val_loss: 0.0142 - val_accuracy: 1.0000\n",
      "Epoch 8/30\n",
      "72/72 - 0s - loss: 0.0045 - accuracy: 1.0000 - val_loss: 0.0122 - val_accuracy: 1.0000\n",
      "Epoch 9/30\n",
      "72/72 - 0s - loss: 0.0042 - accuracy: 1.0000 - val_loss: 0.0130 - val_accuracy: 1.0000\n",
      "Epoch 10/30\n",
      "72/72 - 0s - loss: 0.0039 - accuracy: 1.0000 - val_loss: 0.0142 - val_accuracy: 1.0000\n",
      "Epoch 11/30\n",
      "72/72 - 0s - loss: 0.0036 - accuracy: 1.0000 - val_loss: 0.0145 - val_accuracy: 1.0000\n",
      "Epoch 12/30\n",
      "72/72 - 0s - loss: 0.0033 - accuracy: 1.0000 - val_loss: 0.0143 - val_accuracy: 1.0000\n",
      "Epoch 13/30\n",
      "72/72 - 0s - loss: 0.0031 - accuracy: 1.0000 - val_loss: 0.0142 - val_accuracy: 1.0000\n",
      "Epoch 14/30\n",
      "72/72 - 0s - loss: 0.0029 - accuracy: 1.0000 - val_loss: 0.0143 - val_accuracy: 1.0000\n",
      "Epoch 15/30\n",
      "72/72 - 0s - loss: 0.0027 - accuracy: 1.0000 - val_loss: 0.0143 - val_accuracy: 1.0000\n",
      "Epoch 16/30\n",
      "72/72 - 0s - loss: 0.0025 - accuracy: 1.0000 - val_loss: 0.0152 - val_accuracy: 1.0000\n",
      "Epoch 17/30\n",
      "72/72 - 0s - loss: 0.0024 - accuracy: 1.0000 - val_loss: 0.0153 - val_accuracy: 1.0000\n",
      "Epoch 18/30\n",
      "72/72 - 0s - loss: 0.0022 - accuracy: 1.0000 - val_loss: 0.0155 - val_accuracy: 1.0000\n",
      "Epoch 19/30\n",
      "72/72 - 0s - loss: 0.0020 - accuracy: 1.0000 - val_loss: 0.0158 - val_accuracy: 1.0000\n",
      "Epoch 20/30\n",
      "72/72 - 0s - loss: 0.0019 - accuracy: 1.0000 - val_loss: 0.0164 - val_accuracy: 1.0000\n",
      "Epoch 21/30\n",
      "72/72 - 0s - loss: 0.0018 - accuracy: 1.0000 - val_loss: 0.0161 - val_accuracy: 1.0000\n",
      "Epoch 22/30\n",
      "72/72 - 0s - loss: 0.0017 - accuracy: 1.0000 - val_loss: 0.0158 - val_accuracy: 1.0000\n",
      "Epoch 23/30\n",
      "72/72 - 0s - loss: 0.0016 - accuracy: 1.0000 - val_loss: 0.0159 - val_accuracy: 1.0000\n",
      "Epoch 24/30\n",
      "72/72 - 0s - loss: 0.0015 - accuracy: 1.0000 - val_loss: 0.0160 - val_accuracy: 1.0000\n",
      "Epoch 25/30\n",
      "72/72 - 0s - loss: 0.0014 - accuracy: 1.0000 - val_loss: 0.0178 - val_accuracy: 1.0000\n",
      "Epoch 26/30\n",
      "72/72 - 0s - loss: 0.0013 - accuracy: 1.0000 - val_loss: 0.0162 - val_accuracy: 1.0000\n",
      "Epoch 27/30\n",
      "72/72 - 0s - loss: 0.0013 - accuracy: 1.0000 - val_loss: 0.0174 - val_accuracy: 1.0000\n",
      "Epoch 28/30\n",
      "72/72 - 0s - loss: 0.0012 - accuracy: 1.0000 - val_loss: 0.0177 - val_accuracy: 1.0000\n",
      "Epoch 29/30\n",
      "72/72 - 0s - loss: 0.0011 - accuracy: 1.0000 - val_loss: 0.0171 - val_accuracy: 1.0000\n",
      "Epoch 30/30\n",
      "72/72 - 0s - loss: 0.0011 - accuracy: 1.0000 - val_loss: 0.0181 - val_accuracy: 1.0000\n",
      "CPU times: user 6.84 s, sys: 457 ms, total: 7.3 s\n",
      "Wall time: 6.2 s\n"
     ]
    },
    {
     "data": {
      "text/plain": [
       "<tensorflow.python.keras.callbacks.History at 0x7f6488374640>"
      ]
     },
     "execution_count": 60,
     "metadata": {},
     "output_type": "execute_result"
    }
   ],
   "source": [
    "%%time\n",
    "# fit model method - 2\n",
    "# we fit model specifying validation set proportion and getting accuracy of validation data in the same statement\n",
    "# Training happens here\n",
    "model.fit(\n",
    "        x = scaled_train_data,\n",
    "        y = train_label.values,\n",
    "        validation_split = 0.1, # 10% of the train_data as test or holdout set for evaluation of our model\n",
    "        batch_size = 10,   \n",
    "        epochs = 30, \n",
    "        verbose = 2 \n",
    ")\n",
    "# this method does not shuffle and create validation set\n",
    "# this method just takes the last 10% as validation set \n",
    "# so shuffle the data beforehand before using this method"
   ]
  },
  {
   "cell_type": "code",
   "execution_count": 61,
   "metadata": {},
   "outputs": [
    {
     "name": "stdout",
     "output_type": "stream",
     "text": [
      "20/20 [==============================] - 0s 1ms/step\n"
     ]
    }
   ],
   "source": [
    "# prediction starts here\n",
    "prediction = model.predict(x = scaled_test_data, batch_size=10, verbose=1) # this does not work same as sklearn predict\n",
    "# sklearn predict only returns dominant class name\n",
    "# tf predict returns all probabilities of all classes.\n",
    "# highest probability-class is our prediction\n",
    "# 20 iterations"
   ]
  },
  {
   "cell_type": "code",
   "execution_count": 62,
   "metadata": {},
   "outputs": [
    {
     "data": {
      "text/plain": [
       "numpy.ndarray"
      ]
     },
     "execution_count": 62,
     "metadata": {},
     "output_type": "execute_result"
    }
   ],
   "source": [
    "type(prediction)"
   ]
  },
  {
   "cell_type": "code",
   "execution_count": 63,
   "metadata": {},
   "outputs": [
    {
     "data": {
      "text/plain": [
       "(200, 10)"
      ]
     },
     "execution_count": 63,
     "metadata": {},
     "output_type": "execute_result"
    }
   ],
   "source": [
    "prediction.shape"
   ]
  },
  {
   "cell_type": "code",
   "execution_count": 64,
   "metadata": {},
   "outputs": [
    {
     "name": "stdout",
     "output_type": "stream",
     "text": [
      "[7.6946241e-11 5.4631491e-14 2.0902110e-07 2.5058486e-10 2.0479429e-06\n",
      " 1.6396093e-10 1.4211779e-08 4.8479751e-07 4.8265083e-06 9.9999249e-01]\n",
      "[9.8986708e-10 1.6658111e-08 1.4801939e-04 2.8957513e-05 9.9975342e-01\n",
      " 3.6743121e-08 2.2278107e-05 5.8205875e-12 4.6086268e-05 1.1723678e-06]\n",
      "[1.0260111e-08 5.6156416e-11 3.3698864e-06 2.0580300e-10 7.4236421e-05\n",
      " 5.0464728e-06 9.9991441e-01 2.9638036e-08 2.1893500e-06 7.6012532e-07]\n"
     ]
    }
   ],
   "source": [
    "for i in range(3):\n",
    "    print(prediction[i])"
   ]
  },
  {
   "cell_type": "code",
   "execution_count": 65,
   "metadata": {},
   "outputs": [
    {
     "data": {
      "text/html": [
       "<div>\n",
       "<style scoped>\n",
       "    .dataframe tbody tr th:only-of-type {\n",
       "        vertical-align: middle;\n",
       "    }\n",
       "\n",
       "    .dataframe tbody tr th {\n",
       "        vertical-align: top;\n",
       "    }\n",
       "\n",
       "    .dataframe thead th {\n",
       "        text-align: right;\n",
       "    }\n",
       "</style>\n",
       "<table border=\"1\" class=\"dataframe\">\n",
       "  <thead>\n",
       "    <tr style=\"text-align: right;\">\n",
       "      <th></th>\n",
       "      <th>0</th>\n",
       "    </tr>\n",
       "  </thead>\n",
       "  <tbody>\n",
       "    <tr>\n",
       "      <th>0</th>\n",
       "      <td>9</td>\n",
       "    </tr>\n",
       "    <tr>\n",
       "      <th>1</th>\n",
       "      <td>2</td>\n",
       "    </tr>\n",
       "    <tr>\n",
       "      <th>2</th>\n",
       "      <td>6</td>\n",
       "    </tr>\n",
       "  </tbody>\n",
       "</table>\n",
       "</div>"
      ],
      "text/plain": [
       "   0\n",
       "0  9\n",
       "1  2\n",
       "2  6"
      ]
     },
     "execution_count": 65,
     "metadata": {},
     "output_type": "execute_result"
    }
   ],
   "source": [
    "test_label.head(3)"
   ]
  },
  {
   "cell_type": "code",
   "execution_count": 66,
   "metadata": {},
   "outputs": [
    {
     "name": "stdout",
     "output_type": "stream",
     "text": [
      "9\n",
      "4\n",
      "6\n"
     ]
    }
   ],
   "source": [
    "for i in range(3):\n",
    "    print(prediction[i].argmax()) #argmax() returns index of max value"
   ]
  },
  {
   "cell_type": "code",
   "execution_count": 67,
   "metadata": {},
   "outputs": [],
   "source": [
    "rounded_prediction = np.argmax(prediction, axis=-1) # getting actual class prediction"
   ]
  },
  {
   "cell_type": "code",
   "execution_count": 68,
   "metadata": {},
   "outputs": [
    {
     "name": "stdout",
     "output_type": "stream",
     "text": [
      "9\n",
      "4\n",
      "6\n"
     ]
    }
   ],
   "source": [
    "for i in range(3):\n",
    "    print(rounded_prediction[i])"
   ]
  },
  {
   "cell_type": "code",
   "execution_count": 69,
   "metadata": {},
   "outputs": [],
   "source": [
    "# Confusion matrix\n",
    "from sklearn.metrics import confusion_matrix\n",
    "import itertools"
   ]
  },
  {
   "cell_type": "code",
   "execution_count": 70,
   "metadata": {},
   "outputs": [
    {
     "data": {
      "text/plain": [
       "array([[16,  0,  0,  0,  0,  2,  0,  0,  0,  0],\n",
       "       [ 0, 18,  0,  0,  0,  0,  0,  0,  0,  0],\n",
       "       [ 0,  0, 14,  0,  2,  0,  0,  0,  1,  1],\n",
       "       [ 0,  0,  0, 17,  0,  2,  1,  0,  0,  0],\n",
       "       [ 0,  0,  1,  0, 20,  1,  1,  0,  0,  1],\n",
       "       [ 0,  0,  1,  1,  1, 15,  1,  0,  1,  0],\n",
       "       [ 0,  0,  1,  0,  1,  1, 17,  0,  1,  0],\n",
       "       [ 0,  0,  1,  0,  2,  0,  0, 28,  0,  0],\n",
       "       [ 0,  0,  0,  0,  0,  0,  0,  0, 13,  1],\n",
       "       [ 1,  0,  1,  0,  1,  0,  0,  1,  1, 11]])"
      ]
     },
     "execution_count": 70,
     "metadata": {},
     "output_type": "execute_result"
    }
   ],
   "source": [
    "cm = confusion_matrix(test_label.values, rounded_prediction)\n",
    "cm"
   ]
  },
  {
   "cell_type": "code",
   "execution_count": 71,
   "metadata": {},
   "outputs": [
    {
     "data": {
      "text/plain": [
       "<AxesSubplot:>"
      ]
     },
     "execution_count": 71,
     "metadata": {},
     "output_type": "execute_result"
    },
    {
     "data": {
      "image/png": "[encoded data removed]",
      "text/plain": [
       "<Figure size 432x288 with 2 Axes>"
      ]
     },
     "metadata": {
      "needs_background": "light"
     },
     "output_type": "display_data"
    }
   ],
   "source": [
    "sns.heatmap(cm)"
   ]
  },
  {
   "cell_type": "code",
   "execution_count": 72,
   "metadata": {},
   "outputs": [],
   "source": [
    "# this code is copied from sklearn documentation\n",
    "def plot_confusion_matrix(cm, classes,\n",
    "                          normalize=False,\n",
    "                          title='Confusion matrix',\n",
    "                          cmap=plt.cm.Blues):\n",
    "    \"\"\"\n",
    "    This function prints and plots the confusion matrix.\n",
    "    Normalization can be applied by setting `normalize=True`.\n",
    "    \"\"\"\n",
    "    plt.imshow(cm, interpolation='nearest', cmap=cmap)\n",
    "    plt.title(title)\n",
    "    plt.colorbar()\n",
    "    tick_marks = np.arange(len(classes))\n",
    "    plt.xticks(tick_marks, classes, rotation=45)\n",
    "    plt.yticks(tick_marks, classes)\n",
    "\n",
    "    if normalize:\n",
    "        cm = cm.astype('float') / cm.sum(axis=1)[:, np.newaxis]\n",
    "        print(\"Normalized confusion matrix\")\n",
    "    else:\n",
    "        print('Confusion matrix, without normalization')\n",
    "\n",
    "    print(cm)\n",
    "\n",
    "    thresh = cm.max() / 2.\n",
    "    for i, j in itertools.product(range(cm.shape[0]), range(cm.shape[1])):\n",
    "        plt.text(j, i, cm[i, j],\n",
    "                 horizontalalignment=\"center\",\n",
    "                 color=\"white\" if cm[i, j] > thresh else \"black\")\n",
    "\n",
    "    plt.tight_layout()\n",
    "    plt.ylabel('True label')\n",
    "    plt.xlabel('Predicted label')\n"
   ]
  },
  {
   "cell_type": "code",
   "execution_count": 73,
   "metadata": {},
   "outputs": [
    {
     "name": "stdout",
     "output_type": "stream",
     "text": [
      "Confusion matrix, without normalization\n",
      "[[16  0  0  0  0  2  0  0  0  0]\n",
      " [ 0 18  0  0  0  0  0  0  0  0]\n",
      " [ 0  0 14  0  2  0  0  0  1  1]\n",
      " [ 0  0  0 17  0  2  1  0  0  0]\n",
      " [ 0  0  1  0 20  1  1  0  0  1]\n",
      " [ 0  0  1  1  1 15  1  0  1  0]\n",
      " [ 0  0  1  0  1  1 17  0  1  0]\n",
      " [ 0  0  1  0  2  0  0 28  0  0]\n",
      " [ 0  0  0  0  0  0  0  0 13  1]\n",
      " [ 1  0  1  0  1  0  0  1  1 11]]\n"
     ]
    },
    {
     "data": {
      "image/png": "[encoded data removed]",
      "text/plain": [
       "<Figure size 432x288 with 2 Axes>"
      ]
     },
     "metadata": {
      "needs_background": "light"
     },
     "output_type": "display_data"
    }
   ],
   "source": [
    "plot_confusion_matrix(cm, classes = [0,1,2,3,4,5,6,7,8,9])"
   ]
  },
  {
   "cell_type": "code",
   "execution_count": 74,
   "metadata": {},
   "outputs": [
    {
     "name": "stdout",
     "output_type": "stream",
     "text": [
      "7/7 [==============================] - 0s 2ms/step - loss: 0.8035 - accuracy: 0.8450\n"
     ]
    }
   ],
   "source": [
    "# Getting Scores of our model with teat set\n",
    "loss, acc = model.evaluate(scaled_test_data, test_label.values, verbose=1)"
   ]
  },
  {
   "cell_type": "code",
   "execution_count": 75,
   "metadata": {},
   "outputs": [
    {
     "name": "stdout",
     "output_type": "stream",
     "text": [
      "Loss =  0.8035237789154053  Accuracy =  0.8450000286102295\n"
     ]
    }
   ],
   "source": [
    "print('Loss = ',loss,' Accuracy = ',acc)"
   ]
  },
  {
   "cell_type": "code",
   "execution_count": 76,
   "metadata": {},
   "outputs": [
    {
     "name": "stdout",
     "output_type": "stream",
     "text": [
      "Model: \"sequential\"\n",
      "_________________________________________________________________\n",
      "Layer (type)                 Output Shape              Param #   \n",
      "=================================================================\n",
      "dense (Dense)                (None, 16)                12560     \n",
      "_________________________________________________________________\n",
      "dense_1 (Dense)              (None, 32)                544       \n",
      "_________________________________________________________________\n",
      "dense_2 (Dense)              (None, 10)                330       \n",
      "=================================================================\n",
      "Total params: 13,434\n",
      "Trainable params: 13,434\n",
      "Non-trainable params: 0\n",
      "_________________________________________________________________\n"
     ]
    }
   ],
   "source": [
    "# Saving and Loading Keras Sequential Model\n",
    "model.summary()"
   ]
  },
  {
   "cell_type": "code",
   "execution_count": 69,
   "metadata": {},
   "outputs": [],
   "source": [
    "import os.path\n",
    "if os.path.isfile('model1.h5') is False:\n",
    "    model.save('model.h5')\n",
    "# it saves the following\n",
    "# architecture\n",
    "# weights of model\n",
    "# train confif (loss,optimizer)\n",
    "# the state of optimiser, allow you to resume training"
   ]
  },
  {
   "cell_type": "code",
   "execution_count": 70,
   "metadata": {},
   "outputs": [],
   "source": [
    "# Open our saved model\n",
    "from tensorflow.keras.models import load_model\n",
    "new_model = load_model('model.h5')"
   ]
  },
  {
   "cell_type": "code",
   "execution_count": 71,
   "metadata": {},
   "outputs": [
    {
     "name": "stdout",
     "output_type": "stream",
     "text": [
      "Model: \"sequential\"\n",
      "_________________________________________________________________\n",
      "Layer (type)                 Output Shape              Param #   \n",
      "=================================================================\n",
      "dense (Dense)                (None, 16)                12560     \n",
      "_________________________________________________________________\n",
      "dense_1 (Dense)              (None, 32)                544       \n",
      "_________________________________________________________________\n",
      "dense_2 (Dense)              (None, 10)                330       \n",
      "=================================================================\n",
      "Total params: 13,434\n",
      "Trainable params: 13,434\n",
      "Non-trainable params: 0\n",
      "_________________________________________________________________\n"
     ]
    }
   ],
   "source": [
    "new_model.summary()"
   ]
  },
  {
   "cell_type": "code",
   "execution_count": 72,
   "metadata": {},
   "outputs": [
    {
     "data": {
      "text/plain": [
       "[array([[ 3.0318581e-02,  9.8677799e-03,  2.8932765e-03, ...,\n",
       "         -4.4131532e-02,  4.3630719e-02,  8.1310704e-02],\n",
       "        [-4.7831573e-02, -8.2184747e-02, -4.2926297e-03, ...,\n",
       "          2.4103701e-02, -4.1499734e-05, -5.4506276e-02],\n",
       "        [ 6.8025246e-02,  3.3849701e-02, -6.6073239e-02, ...,\n",
       "         -7.0387565e-02, -8.0501489e-02, -3.9979845e-02],\n",
       "        ...,\n",
       "        [-7.4213430e-02,  8.8675097e-03, -9.4974786e-04, ...,\n",
       "          3.7549309e-02, -2.2386417e-02,  5.7165131e-02],\n",
       "        [ 7.3934108e-02, -2.7333200e-02, -3.6116462e-02, ...,\n",
       "         -3.1607490e-02,  2.7882487e-02, -7.9632945e-02],\n",
       "        [ 1.3119042e-02,  8.3579317e-02,  1.0976940e-03, ...,\n",
       "          6.5846935e-02,  2.9771850e-02, -2.0735838e-02]], dtype=float32),\n",
       " array([ 0.05839132,  0.10072966, -0.01060716,  0.14422147,  0.07591735,\n",
       "         0.15561   ,  0.04639872, -0.07981984,  0.13379131,  0.13790405,\n",
       "        -0.01253582,  0.04715741, -0.02491457,  0.01622671,  0.01986819,\n",
       "         0.09637219], dtype=float32),\n",
       " array([[ 0.10689463,  0.3542836 , -0.02495833,  0.10389213, -0.33973205,\n",
       "         -0.36218745,  0.01735579, -0.13126981,  0.21069077, -0.3925575 ,\n",
       "          0.2063637 , -0.35719895,  0.23869668,  0.50726956, -0.3008976 ,\n",
       "          0.07054322,  0.45793566, -0.57917416,  0.01950027, -0.20316944,\n",
       "          0.29528838, -0.24506867, -0.18084666,  0.3698888 ,  0.02936843,\n",
       "          0.09961153,  0.27222583, -0.1575384 ,  0.1633584 ,  0.03446986,\n",
       "         -0.26059186, -0.02740215],\n",
       "        [-0.16671446,  0.3834486 , -0.1310765 ,  0.3172901 ,  0.04599818,\n",
       "          0.1892177 ,  0.17039005, -0.11181723, -0.21342982,  0.6142759 ,\n",
       "         -0.34184927,  0.23142688, -0.22631122, -0.06677121, -0.37044954,\n",
       "         -0.11962477,  0.11007728, -0.12155004,  0.02654166,  0.22647698,\n",
       "         -0.22987525,  0.52626336, -0.05823614,  0.14423437,  0.16858445,\n",
       "          0.23097281,  0.01372324, -0.25543875, -0.5332888 ,  0.3449836 ,\n",
       "         -0.1920493 ,  0.0490108 ],\n",
       "        [ 0.00159188, -0.11946721,  0.11343761,  0.08661409,  0.1769161 ,\n",
       "          0.37318093, -0.3882957 ,  0.30392343,  0.34770966,  0.18281388,\n",
       "         -0.2135854 ,  0.14944443,  0.1299466 ,  0.28729665, -0.34113038,\n",
       "          0.33600727,  0.17973037, -0.37050605,  0.29190364, -0.3506302 ,\n",
       "          0.13935404, -0.10630799, -0.32058463, -0.16597809, -0.20763828,\n",
       "         -0.00886386, -0.18407837, -0.280208  , -0.06984209,  0.35639724,\n",
       "         -0.3378473 , -0.21788888],\n",
       "        [-0.0211804 ,  0.34517232,  0.24800988,  0.03539019,  0.04389769,\n",
       "         -0.08797251, -0.3240937 , -0.00550507, -0.03135443,  0.07780956,\n",
       "          0.00704349, -0.22729535,  0.18374963,  0.39873233,  0.2109756 ,\n",
       "          0.24389336,  0.11657378, -0.12002181,  0.18889487, -0.47708532,\n",
       "          0.12851307,  0.5133633 ,  0.02619968, -0.2019884 , -0.04479963,\n",
       "         -0.18079251,  0.20268331, -0.23236465, -0.3322042 , -0.10700513,\n",
       "         -0.0950729 ,  0.55428886],\n",
       "        [-0.5773685 ,  0.22418815,  0.36707413, -0.5429264 , -0.48898497,\n",
       "          0.22141649,  0.4526033 ,  0.04190775, -0.27968493,  0.3848849 ,\n",
       "          0.4126005 ,  0.13549696, -0.5367961 ,  0.31152165,  0.41688266,\n",
       "          0.37025228,  0.4717633 ,  0.28960496,  0.1921174 ,  0.17179045,\n",
       "          0.4143191 , -0.14495729, -0.20054479,  0.11490612, -0.25005102,\n",
       "         -0.11115178, -0.13570401, -0.24530327, -0.10661993, -0.10052636,\n",
       "         -0.42822802,  0.36789533],\n",
       "        [-0.30472848, -0.2587399 , -0.29510766,  0.5226137 ,  0.15738335,\n",
       "          0.03633469,  0.14329082,  0.3099218 , -0.12889326,  0.01390783,\n",
       "         -0.31432432, -0.0630893 , -0.3103103 ,  0.09306548,  0.17277536,\n",
       "          0.22007293,  0.15680803, -0.00113256,  0.2181391 ,  0.00316694,\n",
       "          0.01624465,  0.14589599, -0.29870373,  0.37375313, -0.1935165 ,\n",
       "          0.22020815,  0.48126614, -0.12676807, -0.02354745, -0.3799046 ,\n",
       "          0.4788101 , -0.1220273 ],\n",
       "        [ 0.2721707 , -0.09921219,  0.33504236, -0.5035086 , -0.24875546,\n",
       "          0.12264413, -0.34380752,  0.02127808,  0.21700765,  0.2863254 ,\n",
       "          0.14057292, -0.16541186,  0.4538046 , -0.15771502,  0.4180431 ,\n",
       "         -0.15038326,  0.36441645,  0.09248138,  0.35612693,  0.13561018,\n",
       "          0.35495415,  0.19912282, -0.38029757, -0.20460954, -0.14696792,\n",
       "          0.37975997,  0.36515212, -0.11641099, -0.2071385 ,  0.24720208,\n",
       "         -0.36359268, -0.35225624],\n",
       "        [-0.04580276,  0.09105094, -0.08481241, -0.24903858, -0.06021211,\n",
       "          0.04774584,  0.30818093, -0.4417158 ,  0.14767155, -0.19013914,\n",
       "         -0.65173346, -0.06413217,  0.05663047, -0.29133633,  0.07200222,\n",
       "          0.31820378,  0.36053005, -0.31617436, -0.13287096, -0.33613604,\n",
       "         -0.28512773, -0.01923431, -0.06825815, -0.04003108, -0.24764839,\n",
       "         -0.20472904, -0.02619369, -0.1535869 , -0.04516032,  0.37716973,\n",
       "         -0.35744724, -0.6938833 ],\n",
       "        [ 0.3245981 ,  0.20357856, -0.2664536 , -0.15788493,  0.19966166,\n",
       "         -0.19675899, -0.16837956,  0.4172834 , -0.1372745 , -0.5255768 ,\n",
       "          0.121584  , -0.36144927,  0.42504033,  0.29593253,  0.17448652,\n",
       "         -0.07170825,  0.22446796,  0.2632816 , -0.31917801,  0.11358397,\n",
       "          0.33956614, -0.33655715,  0.3286309 , -0.32969794,  0.22581312,\n",
       "          0.33657822, -0.27789217,  0.497458  ,  0.1335882 ,  0.14851943,\n",
       "          0.17738356,  0.16700508],\n",
       "        [ 0.01355032,  0.33174264,  0.04003195,  0.4361885 ,  0.5037992 ,\n",
       "         -0.08374369,  0.3955325 , -0.09746446, -0.40261978,  0.10486908,\n",
       "         -0.19760828,  0.09135205,  0.073369  , -0.26172075,  0.13641243,\n",
       "          0.11285336,  0.23154505, -0.11210103, -0.02665598,  0.0204813 ,\n",
       "          0.26449272,  0.08613464, -0.19568951, -0.28628233, -0.11511055,\n",
       "          0.2537865 , -0.24371539,  0.40626112,  0.12686975,  0.3844908 ,\n",
       "          0.2935918 , -0.10961395],\n",
       "        [-0.05779026,  0.0469145 ,  0.08202824, -0.13186334,  0.00443786,\n",
       "          0.07604235,  0.31367344,  0.36843842, -0.22149199, -0.18142956,\n",
       "          0.3141057 , -0.36314884, -0.23916568,  0.13721183, -0.09766285,\n",
       "          0.47635707, -0.23996143,  0.32690072, -0.49901736,  0.04128505,\n",
       "          0.1972192 , -0.43142548,  0.02406982,  0.44816244, -0.33903262,\n",
       "          0.34488377, -0.17707352,  0.4669585 ,  0.2586117 , -0.08795165,\n",
       "          0.07721499, -0.36644953],\n",
       "        [ 0.41256386, -0.06512362,  0.31072733,  0.2457228 ,  0.52214223,\n",
       "         -0.22116227,  0.0058371 ,  0.14511907,  0.0711784 ,  0.20466259,\n",
       "          0.47000337, -0.325452  ,  0.23334827,  0.19269037, -0.18714297,\n",
       "          0.33185825, -0.01693853,  0.10180968, -0.0940716 ,  0.32954434,\n",
       "         -0.58575433,  0.14045417,  0.2157924 ,  0.16307864, -0.31378064,\n",
       "         -0.20448709,  0.2822727 , -0.24822548, -0.35906702,  0.09865034,\n",
       "         -0.24215128,  0.3865946 ],\n",
       "        [ 0.38686055,  0.0949719 ,  0.17308462,  0.08366606, -0.11798824,\n",
       "          0.26507428, -0.44501883,  0.39992028,  0.05387635, -0.33572447,\n",
       "          0.0249137 ,  0.24401377,  0.27388293, -0.14505875,  0.08486708,\n",
       "          0.22002546, -0.16221933,  0.31061554,  0.10493948, -0.06526559,\n",
       "          0.03562419,  0.31284016, -0.07458837,  0.29175407,  0.14661369,\n",
       "         -0.40146706, -0.20844576,  0.0677954 ,  0.0233095 , -0.10280258,\n",
       "         -0.19130492, -0.10628375],\n",
       "        [ 0.32347727,  0.18009965,  0.00822032, -0.14241476,  0.05271728,\n",
       "         -0.17976178,  0.14817478,  0.3792658 , -0.274257  ,  0.14125602,\n",
       "          0.14281446, -0.24915504,  0.33660927, -0.12780394,  0.42786926,\n",
       "          0.24846996, -0.13511854,  0.09750825, -0.26359916,  0.29215467,\n",
       "          0.34660864, -0.49149448,  0.17717408,  0.19858027, -0.21194562,\n",
       "         -0.31273377, -0.43160424,  0.28602397, -0.27641568, -0.26121998,\n",
       "          0.33283812,  0.10690514],\n",
       "        [ 0.11809818,  0.29236028,  0.48577207,  0.11200982, -0.34721902,\n",
       "         -0.11897284,  0.29683495, -0.4659565 , -0.0651596 ,  0.10578769,\n",
       "         -0.24621353,  0.09562641,  0.20009851, -0.14059356,  0.09667873,\n",
       "          0.16679925,  0.19291747, -0.13136642,  0.2499969 , -0.1976497 ,\n",
       "         -0.18367824,  0.239968  ,  0.05251906,  0.18849353, -0.00957882,\n",
       "         -0.06683274,  0.38709748,  0.34933585, -0.12725465,  0.14512493,\n",
       "         -0.14836493, -0.30997428],\n",
       "        [ 0.20528506, -0.08120099, -0.12525974,  0.4136885 ,  0.09804799,\n",
       "          0.09726585, -0.21671182, -0.4827946 , -0.4880013 , -0.0335108 ,\n",
       "          0.10603394,  0.23663655, -0.3311024 ,  0.32554802, -0.5248324 ,\n",
       "          0.2371656 , -0.09990648,  0.08044935, -0.03667601,  0.2194447 ,\n",
       "         -0.3058047 , -0.34941307, -0.06658509, -0.07997336,  0.09067408,\n",
       "          0.5235176 ,  0.19909309,  0.07134894, -0.11335701, -0.34598783,\n",
       "         -0.06525858,  0.22655539]], dtype=float32),\n",
       " array([ 0.0086913 ,  0.03035227, -0.04695997,  0.06380026,  0.12613253,\n",
       "        -0.09417121,  0.10396039,  0.0386575 , -0.02316068,  0.12387403,\n",
       "         0.04284987, -0.0436642 , -0.06190228,  0.10792376,  0.01137006,\n",
       "        -0.11066648,  0.08006714,  0.02700509,  0.07745719,  0.03065722,\n",
       "         0.14586282,  0.22551838, -0.02626914, -0.03282067, -0.00704398,\n",
       "         0.24018434,  0.1726562 ,  0.16515438, -0.05867841, -0.05434629,\n",
       "         0.12221987,  0.17561524], dtype=float32),\n",
       " array([[ 0.34433895, -0.15456395,  0.10627232, -0.02984568, -0.14990658,\n",
       "          0.27902153,  0.2973884 ,  0.18650782,  0.25807336, -0.3358325 ],\n",
       "        [ 0.35288084,  0.02101443,  0.2322898 , -0.41665635, -0.34923223,\n",
       "         -0.4097372 , -0.05578916,  0.17271577, -0.23036072,  0.30969676],\n",
       "        [ 0.29441854, -0.12977532,  0.02642458, -0.04875538, -0.57610613,\n",
       "         -0.38473827, -0.2169618 ,  0.2908052 ,  0.02736107, -0.17134678],\n",
       "        [ 0.03381792, -0.06249204,  0.22298735, -0.56539744,  0.26328343,\n",
       "          0.31172246, -0.01063335, -0.82758284,  0.08771528, -0.07532036],\n",
       "        [ 0.06340975, -0.7441429 ,  0.28753677, -0.19250305,  0.3547991 ,\n",
       "          0.16938773,  0.3858842 , -0.5357047 , -0.19432755, -0.508523  ],\n",
       "        [-0.11985488, -0.2226167 , -0.04937904, -0.31950104,  0.21674998,\n",
       "          0.31295973, -0.2949556 , -0.12447685,  0.3413571 , -0.39655906],\n",
       "        [-0.20765123, -0.39672384,  0.2659859 ,  0.29231676,  0.4077988 ,\n",
       "         -0.27205205,  0.46632162, -0.30785805, -0.13622686,  0.5726229 ],\n",
       "        [-0.19380152, -0.7368193 , -0.46562064,  0.3172073 ,  0.42415172,\n",
       "          0.211017  , -0.95130265,  0.05139525,  0.18301098, -0.3359653 ],\n",
       "        [ 0.23265155, -0.3945178 , -0.25405273, -0.14431542, -0.39325917,\n",
       "          0.0876673 ,  0.3067569 ,  0.2219945 ,  0.18302675, -0.41300192],\n",
       "        [ 0.08080054,  0.28343216,  0.40924495,  0.5010136 , -0.4210066 ,\n",
       "         -0.4389665 ,  0.419479  , -0.0431677 , -0.2814419 ,  0.07082948],\n",
       "        [ 0.2476603 , -0.99214816, -0.4976933 ,  0.4251042 , -0.5431099 ,\n",
       "          0.10563682, -0.23256509,  0.03582228, -0.290568  , -0.35945114],\n",
       "        [-0.04137309, -0.16557969, -0.06994837,  0.23465407, -0.04777129,\n",
       "          0.20467019, -0.0674358 ,  0.14645593, -0.19326562,  0.25708172],\n",
       "        [ 0.4308365 , -0.26212728, -0.18643789, -0.53074175, -0.13466182,\n",
       "         -0.06442901, -0.06293686,  0.3498661 ,  0.37720364, -0.49274918],\n",
       "        [-0.34789306,  0.40397304, -0.44543922,  0.25396815, -0.47318086,\n",
       "          0.46070203, -0.3210154 ,  0.04958751, -0.0937179 ,  0.2954892 ],\n",
       "        [-0.28959137, -0.2464219 ,  0.354631  ,  0.2454029 ,  0.24747817,\n",
       "         -0.33505902, -0.49215055,  0.47120377,  0.36054105,  0.12795034],\n",
       "        [-0.0926875 , -0.13241488, -0.16645946,  0.21424322, -0.33484432,\n",
       "          0.12409557,  0.04800605, -0.19316457,  0.19794282,  0.24433675],\n",
       "        [-0.11747885,  0.33776513,  0.29364488, -0.0660915 , -0.30579728,\n",
       "          0.01147882,  0.35582373,  0.3379336 ,  0.07086275,  0.39647517],\n",
       "        [ 0.01507615, -0.12853248, -0.56045014,  0.45027938,  0.32600415,\n",
       "         -0.259451  , -0.32196367,  0.17422156, -0.03902356, -0.42800674],\n",
       "        [-0.48872986,  0.40482402, -0.297107  , -0.08511978,  0.05400229,\n",
       "         -0.11782362, -0.18328471,  0.08972645, -0.12854393, -0.43338335],\n",
       "        [ 0.01935006, -0.43842524, -0.40463194,  0.42021567,  0.3302656 ,\n",
       "         -0.2058646 ,  0.12953445, -0.19336605, -0.28831938, -0.21773924],\n",
       "        [-0.46995175, -0.29022527, -0.29536435,  0.00750809,  0.3727939 ,\n",
       "         -0.3966326 , -0.307415  ,  0.5397013 , -0.41229746,  0.47840965],\n",
       "        [-0.2893013 ,  0.5241605 ,  0.5902634 , -0.14594306, -0.50675774,\n",
       "         -0.05759382, -0.49208474, -0.11954612, -0.01811078, -0.5591836 ],\n",
       "        [-0.11999785, -0.30927658, -0.34621924, -0.40794766,  0.19225337,\n",
       "         -0.32422826,  0.07420097, -0.24724714, -0.21938199,  0.28221944],\n",
       "        [ 0.29780564,  0.37594882, -0.13864097,  0.12124772,  0.04205382,\n",
       "          0.05208543, -0.4844331 , -0.14819598,  0.4813376 ,  0.5363816 ],\n",
       "        [-0.3147783 , -0.11618024,  0.16891362, -0.06587952,  0.291182  ,\n",
       "         -0.35968375, -0.30283552,  0.02264942,  0.04762384,  0.0799411 ],\n",
       "        [-0.40957144,  0.36153552, -0.623039  , -0.50082856,  0.27303085,\n",
       "         -0.0460037 ,  0.70000976, -0.28018224, -0.5356941 , -0.13156705],\n",
       "        [-0.65737057,  0.6624097 , -0.24015857, -0.23672596, -0.33120292,\n",
       "          0.05420407,  0.27286458, -0.1936006 ,  0.3959594 , -0.18623239],\n",
       "        [ 0.2760119 , -0.68711   , -0.00500294, -0.7147241 ,  0.44763836,\n",
       "         -0.54665315,  0.32001707,  0.30285695, -0.4118402 ,  0.16681471],\n",
       "        [-0.16808665, -0.20614071,  0.2739979 ,  0.2767601 ,  0.01653274,\n",
       "         -0.0364989 ,  0.01774856,  0.12758988,  0.00420588,  0.00822535],\n",
       "        [-0.19423804, -0.45770106,  0.47703803,  0.1394378 ,  0.00575583,\n",
       "          0.16089202, -0.17158382, -0.36699805, -0.15360539,  0.02519477],\n",
       "        [-0.46436033, -0.22512144, -0.06264371, -0.30818093,  0.634314  ,\n",
       "          0.2523867 ,  0.00573001, -0.12769647, -0.22574997, -0.1755222 ],\n",
       "        [-0.1844673 ,  0.13518184,  0.2178959 ,  0.3241163 , -0.03475454,\n",
       "          0.6761683 , -0.48809123,  0.03584822, -0.76165694, -0.74253005]],\n",
       "       dtype=float32),\n",
       " array([-0.07735391,  0.14574929, -0.0346606 , -0.08923033,  0.0354059 ,\n",
       "         0.00170303,  0.05348014,  0.03874275, -0.11959523,  0.01797702],\n",
       "       dtype=float32)]"
      ]
     },
     "execution_count": 72,
     "metadata": {},
     "output_type": "execute_result"
    }
   ],
   "source": [
    "new_model.get_weights()"
   ]
  },
  {
   "cell_type": "code",
   "execution_count": 73,
   "metadata": {},
   "outputs": [
    {
     "data": {
      "text/plain": [
       "<tensorflow.python.keras.optimizer_v2.adam.Adam at 0x7ff4eba72a60>"
      ]
     },
     "execution_count": 73,
     "metadata": {},
     "output_type": "execute_result"
    }
   ],
   "source": [
    "new_model.optimizer"
   ]
  },
  {
   "cell_type": "code",
   "execution_count": 74,
   "metadata": {},
   "outputs": [],
   "source": [
    "# Save only the architecture and not weights,training config.\n",
    "json_string = model.to_json()"
   ]
  },
  {
   "cell_type": "code",
   "execution_count": 75,
   "metadata": {},
   "outputs": [
    {
     "data": {
      "text/plain": [
       "'{\"class_name\": \"Sequential\", \"config\": {\"name\": \"sequential\", \"layers\": [{\"class_name\": \"Dense\", \"config\": {\"name\": \"dense\", \"trainable\": true, \"batch_input_shape\": [null, 784], \"dtype\": \"float32\", \"units\": 16, \"activation\": \"relu\", \"use_bias\": true, \"kernel_initializer\": {\"class_name\": \"GlorotUniform\", \"config\": {\"seed\": null}}, \"bias_initializer\": {\"class_name\": \"Zeros\", \"config\": {}}, \"kernel_regularizer\": null, \"bias_regularizer\": null, \"activity_regularizer\": null, \"kernel_constraint\": null, \"bias_constraint\": null}}, {\"class_name\": \"Dense\", \"config\": {\"name\": \"dense_1\", \"trainable\": true, \"dtype\": \"float32\", \"units\": 32, \"activation\": \"relu\", \"use_bias\": true, \"kernel_initializer\": {\"class_name\": \"GlorotUniform\", \"config\": {\"seed\": null}}, \"bias_initializer\": {\"class_name\": \"Zeros\", \"config\": {}}, \"kernel_regularizer\": null, \"bias_regularizer\": null, \"activity_regularizer\": null, \"kernel_constraint\": null, \"bias_constraint\": null}}, {\"class_name\": \"Dense\", \"config\": {\"name\": \"dense_2\", \"trainable\": true, \"dtype\": \"float32\", \"units\": 10, \"activation\": \"softmax\", \"use_bias\": true, \"kernel_initializer\": {\"class_name\": \"GlorotUniform\", \"config\": {\"seed\": null}}, \"bias_initializer\": {\"class_name\": \"Zeros\", \"config\": {}}, \"kernel_regularizer\": null, \"bias_regularizer\": null, \"activity_regularizer\": null, \"kernel_constraint\": null, \"bias_constraint\": null}}], \"build_input_shape\": [null, 784]}, \"keras_version\": \"2.3.0-tf\", \"backend\": \"tensorflow\"}'"
      ]
     },
     "execution_count": 75,
     "metadata": {},
     "output_type": "execute_result"
    }
   ],
   "source": [
    "json_string"
   ]
  },
  {
   "cell_type": "code",
   "execution_count": 76,
   "metadata": {},
   "outputs": [],
   "source": [
    "# load from JSON string\n",
    "from tensorflow.keras.models import model_from_json\n",
    "model_arch = model_from_json(json_string)"
   ]
  },
  {
   "cell_type": "code",
   "execution_count": 77,
   "metadata": {},
   "outputs": [
    {
     "name": "stdout",
     "output_type": "stream",
     "text": [
      "Model: \"sequential\"\n",
      "_________________________________________________________________\n",
      "Layer (type)                 Output Shape              Param #   \n",
      "=================================================================\n",
      "dense (Dense)                (None, 16)                12560     \n",
      "_________________________________________________________________\n",
      "dense_1 (Dense)              (None, 32)                544       \n",
      "_________________________________________________________________\n",
      "dense_2 (Dense)              (None, 10)                330       \n",
      "=================================================================\n",
      "Total params: 13,434\n",
      "Trainable params: 13,434\n",
      "Non-trainable params: 0\n",
      "_________________________________________________________________\n"
     ]
    }
   ],
   "source": [
    "model_arch.summary()"
   ]
  },
  {
   "cell_type": "code",
   "execution_count": 78,
   "metadata": {},
   "outputs": [],
   "source": [
    "model_arch.optimizer # prints nothing"
   ]
  },
  {
   "cell_type": "code",
   "execution_count": 79,
   "metadata": {},
   "outputs": [],
   "source": [
    "# Only save weights of a model\n",
    "model.save_weights('model_weight_1.h5')"
   ]
  },
  {
   "cell_type": "code",
   "execution_count": 80,
   "metadata": {},
   "outputs": [],
   "source": [
    "# the problem with this is, we need a model to load the above weights file\n",
    "# That model should have the same architecture as the previous model from which the weights are saved."
   ]
  },
  {
   "cell_type": "code",
   "execution_count": 81,
   "metadata": {},
   "outputs": [
    {
     "name": "stdout",
     "output_type": "stream",
     "text": [
      "CPU times: user 26.3 ms, sys: 0 ns, total: 26.3 ms\n",
      "Wall time: 25.1 ms\n"
     ]
    }
   ],
   "source": [
    "%%time\n",
    "# Model Creation\n",
    "\n",
    "model2 = Sequential([\n",
    "    Dense(units=16, input_shape=(no_of_features,), activation='relu'), \n",
    "    Dense(units=32, activation='relu'), \n",
    "    Dense(units=no_of_classes, activation='softmax') \n",
    "])"
   ]
  },
  {
   "cell_type": "code",
   "execution_count": 82,
   "metadata": {},
   "outputs": [],
   "source": [
    "model2.load_weights('model_weight_1.h5')"
   ]
  },
  {
   "cell_type": "code",
   "execution_count": 83,
   "metadata": {},
   "outputs": [
    {
     "data": {
      "text/plain": [
       "[array([[ 3.0318581e-02,  9.8677799e-03,  2.8932765e-03, ...,\n",
       "         -4.4131532e-02,  4.3630719e-02,  8.1310704e-02],\n",
       "        [-4.7831573e-02, -8.2184747e-02, -4.2926297e-03, ...,\n",
       "          2.4103701e-02, -4.1499734e-05, -5.4506276e-02],\n",
       "        [ 6.8025246e-02,  3.3849701e-02, -6.6073239e-02, ...,\n",
       "         -7.0387565e-02, -8.0501489e-02, -3.9979845e-02],\n",
       "        ...,\n",
       "        [-7.4213430e-02,  8.8675097e-03, -9.4974786e-04, ...,\n",
       "          3.7549309e-02, -2.2386417e-02,  5.7165131e-02],\n",
       "        [ 7.3934108e-02, -2.7333200e-02, -3.6116462e-02, ...,\n",
       "         -3.1607490e-02,  2.7882487e-02, -7.9632945e-02],\n",
       "        [ 1.3119042e-02,  8.3579317e-02,  1.0976940e-03, ...,\n",
       "          6.5846935e-02,  2.9771850e-02, -2.0735838e-02]], dtype=float32),\n",
       " array([ 0.05839132,  0.10072966, -0.01060716,  0.14422147,  0.07591735,\n",
       "         0.15561   ,  0.04639872, -0.07981984,  0.13379131,  0.13790405,\n",
       "        -0.01253582,  0.04715741, -0.02491457,  0.01622671,  0.01986819,\n",
       "         0.09637219], dtype=float32),\n",
       " array([[ 0.10689463,  0.3542836 , -0.02495833,  0.10389213, -0.33973205,\n",
       "         -0.36218745,  0.01735579, -0.13126981,  0.21069077, -0.3925575 ,\n",
       "          0.2063637 , -0.35719895,  0.23869668,  0.50726956, -0.3008976 ,\n",
       "          0.07054322,  0.45793566, -0.57917416,  0.01950027, -0.20316944,\n",
       "          0.29528838, -0.24506867, -0.18084666,  0.3698888 ,  0.02936843,\n",
       "          0.09961153,  0.27222583, -0.1575384 ,  0.1633584 ,  0.03446986,\n",
       "         -0.26059186, -0.02740215],\n",
       "        [-0.16671446,  0.3834486 , -0.1310765 ,  0.3172901 ,  0.04599818,\n",
       "          0.1892177 ,  0.17039005, -0.11181723, -0.21342982,  0.6142759 ,\n",
       "         -0.34184927,  0.23142688, -0.22631122, -0.06677121, -0.37044954,\n",
       "         -0.11962477,  0.11007728, -0.12155004,  0.02654166,  0.22647698,\n",
       "         -0.22987525,  0.52626336, -0.05823614,  0.14423437,  0.16858445,\n",
       "          0.23097281,  0.01372324, -0.25543875, -0.5332888 ,  0.3449836 ,\n",
       "         -0.1920493 ,  0.0490108 ],\n",
       "        [ 0.00159188, -0.11946721,  0.11343761,  0.08661409,  0.1769161 ,\n",
       "          0.37318093, -0.3882957 ,  0.30392343,  0.34770966,  0.18281388,\n",
       "         -0.2135854 ,  0.14944443,  0.1299466 ,  0.28729665, -0.34113038,\n",
       "          0.33600727,  0.17973037, -0.37050605,  0.29190364, -0.3506302 ,\n",
       "          0.13935404, -0.10630799, -0.32058463, -0.16597809, -0.20763828,\n",
       "         -0.00886386, -0.18407837, -0.280208  , -0.06984209,  0.35639724,\n",
       "         -0.3378473 , -0.21788888],\n",
       "        [-0.0211804 ,  0.34517232,  0.24800988,  0.03539019,  0.04389769,\n",
       "         -0.08797251, -0.3240937 , -0.00550507, -0.03135443,  0.07780956,\n",
       "          0.00704349, -0.22729535,  0.18374963,  0.39873233,  0.2109756 ,\n",
       "          0.24389336,  0.11657378, -0.12002181,  0.18889487, -0.47708532,\n",
       "          0.12851307,  0.5133633 ,  0.02619968, -0.2019884 , -0.04479963,\n",
       "         -0.18079251,  0.20268331, -0.23236465, -0.3322042 , -0.10700513,\n",
       "         -0.0950729 ,  0.55428886],\n",
       "        [-0.5773685 ,  0.22418815,  0.36707413, -0.5429264 , -0.48898497,\n",
       "          0.22141649,  0.4526033 ,  0.04190775, -0.27968493,  0.3848849 ,\n",
       "          0.4126005 ,  0.13549696, -0.5367961 ,  0.31152165,  0.41688266,\n",
       "          0.37025228,  0.4717633 ,  0.28960496,  0.1921174 ,  0.17179045,\n",
       "          0.4143191 , -0.14495729, -0.20054479,  0.11490612, -0.25005102,\n",
       "         -0.11115178, -0.13570401, -0.24530327, -0.10661993, -0.10052636,\n",
       "         -0.42822802,  0.36789533],\n",
       "        [-0.30472848, -0.2587399 , -0.29510766,  0.5226137 ,  0.15738335,\n",
       "          0.03633469,  0.14329082,  0.3099218 , -0.12889326,  0.01390783,\n",
       "         -0.31432432, -0.0630893 , -0.3103103 ,  0.09306548,  0.17277536,\n",
       "          0.22007293,  0.15680803, -0.00113256,  0.2181391 ,  0.00316694,\n",
       "          0.01624465,  0.14589599, -0.29870373,  0.37375313, -0.1935165 ,\n",
       "          0.22020815,  0.48126614, -0.12676807, -0.02354745, -0.3799046 ,\n",
       "          0.4788101 , -0.1220273 ],\n",
       "        [ 0.2721707 , -0.09921219,  0.33504236, -0.5035086 , -0.24875546,\n",
       "          0.12264413, -0.34380752,  0.02127808,  0.21700765,  0.2863254 ,\n",
       "          0.14057292, -0.16541186,  0.4538046 , -0.15771502,  0.4180431 ,\n",
       "         -0.15038326,  0.36441645,  0.09248138,  0.35612693,  0.13561018,\n",
       "          0.35495415,  0.19912282, -0.38029757, -0.20460954, -0.14696792,\n",
       "          0.37975997,  0.36515212, -0.11641099, -0.2071385 ,  0.24720208,\n",
       "         -0.36359268, -0.35225624],\n",
       "        [-0.04580276,  0.09105094, -0.08481241, -0.24903858, -0.06021211,\n",
       "          0.04774584,  0.30818093, -0.4417158 ,  0.14767155, -0.19013914,\n",
       "         -0.65173346, -0.06413217,  0.05663047, -0.29133633,  0.07200222,\n",
       "          0.31820378,  0.36053005, -0.31617436, -0.13287096, -0.33613604,\n",
       "         -0.28512773, -0.01923431, -0.06825815, -0.04003108, -0.24764839,\n",
       "         -0.20472904, -0.02619369, -0.1535869 , -0.04516032,  0.37716973,\n",
       "         -0.35744724, -0.6938833 ],\n",
       "        [ 0.3245981 ,  0.20357856, -0.2664536 , -0.15788493,  0.19966166,\n",
       "         -0.19675899, -0.16837956,  0.4172834 , -0.1372745 , -0.5255768 ,\n",
       "          0.121584  , -0.36144927,  0.42504033,  0.29593253,  0.17448652,\n",
       "         -0.07170825,  0.22446796,  0.2632816 , -0.31917801,  0.11358397,\n",
       "          0.33956614, -0.33655715,  0.3286309 , -0.32969794,  0.22581312,\n",
       "          0.33657822, -0.27789217,  0.497458  ,  0.1335882 ,  0.14851943,\n",
       "          0.17738356,  0.16700508],\n",
       "        [ 0.01355032,  0.33174264,  0.04003195,  0.4361885 ,  0.5037992 ,\n",
       "         -0.08374369,  0.3955325 , -0.09746446, -0.40261978,  0.10486908,\n",
       "         -0.19760828,  0.09135205,  0.073369  , -0.26172075,  0.13641243,\n",
       "          0.11285336,  0.23154505, -0.11210103, -0.02665598,  0.0204813 ,\n",
       "          0.26449272,  0.08613464, -0.19568951, -0.28628233, -0.11511055,\n",
       "          0.2537865 , -0.24371539,  0.40626112,  0.12686975,  0.3844908 ,\n",
       "          0.2935918 , -0.10961395],\n",
       "        [-0.05779026,  0.0469145 ,  0.08202824, -0.13186334,  0.00443786,\n",
       "          0.07604235,  0.31367344,  0.36843842, -0.22149199, -0.18142956,\n",
       "          0.3141057 , -0.36314884, -0.23916568,  0.13721183, -0.09766285,\n",
       "          0.47635707, -0.23996143,  0.32690072, -0.49901736,  0.04128505,\n",
       "          0.1972192 , -0.43142548,  0.02406982,  0.44816244, -0.33903262,\n",
       "          0.34488377, -0.17707352,  0.4669585 ,  0.2586117 , -0.08795165,\n",
       "          0.07721499, -0.36644953],\n",
       "        [ 0.41256386, -0.06512362,  0.31072733,  0.2457228 ,  0.52214223,\n",
       "         -0.22116227,  0.0058371 ,  0.14511907,  0.0711784 ,  0.20466259,\n",
       "          0.47000337, -0.325452  ,  0.23334827,  0.19269037, -0.18714297,\n",
       "          0.33185825, -0.01693853,  0.10180968, -0.0940716 ,  0.32954434,\n",
       "         -0.58575433,  0.14045417,  0.2157924 ,  0.16307864, -0.31378064,\n",
       "         -0.20448709,  0.2822727 , -0.24822548, -0.35906702,  0.09865034,\n",
       "         -0.24215128,  0.3865946 ],\n",
       "        [ 0.38686055,  0.0949719 ,  0.17308462,  0.08366606, -0.11798824,\n",
       "          0.26507428, -0.44501883,  0.39992028,  0.05387635, -0.33572447,\n",
       "          0.0249137 ,  0.24401377,  0.27388293, -0.14505875,  0.08486708,\n",
       "          0.22002546, -0.16221933,  0.31061554,  0.10493948, -0.06526559,\n",
       "          0.03562419,  0.31284016, -0.07458837,  0.29175407,  0.14661369,\n",
       "         -0.40146706, -0.20844576,  0.0677954 ,  0.0233095 , -0.10280258,\n",
       "         -0.19130492, -0.10628375],\n",
       "        [ 0.32347727,  0.18009965,  0.00822032, -0.14241476,  0.05271728,\n",
       "         -0.17976178,  0.14817478,  0.3792658 , -0.274257  ,  0.14125602,\n",
       "          0.14281446, -0.24915504,  0.33660927, -0.12780394,  0.42786926,\n",
       "          0.24846996, -0.13511854,  0.09750825, -0.26359916,  0.29215467,\n",
       "          0.34660864, -0.49149448,  0.17717408,  0.19858027, -0.21194562,\n",
       "         -0.31273377, -0.43160424,  0.28602397, -0.27641568, -0.26121998,\n",
       "          0.33283812,  0.10690514],\n",
       "        [ 0.11809818,  0.29236028,  0.48577207,  0.11200982, -0.34721902,\n",
       "         -0.11897284,  0.29683495, -0.4659565 , -0.0651596 ,  0.10578769,\n",
       "         -0.24621353,  0.09562641,  0.20009851, -0.14059356,  0.09667873,\n",
       "          0.16679925,  0.19291747, -0.13136642,  0.2499969 , -0.1976497 ,\n",
       "         -0.18367824,  0.239968  ,  0.05251906,  0.18849353, -0.00957882,\n",
       "         -0.06683274,  0.38709748,  0.34933585, -0.12725465,  0.14512493,\n",
       "         -0.14836493, -0.30997428],\n",
       "        [ 0.20528506, -0.08120099, -0.12525974,  0.4136885 ,  0.09804799,\n",
       "          0.09726585, -0.21671182, -0.4827946 , -0.4880013 , -0.0335108 ,\n",
       "          0.10603394,  0.23663655, -0.3311024 ,  0.32554802, -0.5248324 ,\n",
       "          0.2371656 , -0.09990648,  0.08044935, -0.03667601,  0.2194447 ,\n",
       "         -0.3058047 , -0.34941307, -0.06658509, -0.07997336,  0.09067408,\n",
       "          0.5235176 ,  0.19909309,  0.07134894, -0.11335701, -0.34598783,\n",
       "         -0.06525858,  0.22655539]], dtype=float32),\n",
       " array([ 0.0086913 ,  0.03035227, -0.04695997,  0.06380026,  0.12613253,\n",
       "        -0.09417121,  0.10396039,  0.0386575 , -0.02316068,  0.12387403,\n",
       "         0.04284987, -0.0436642 , -0.06190228,  0.10792376,  0.01137006,\n",
       "        -0.11066648,  0.08006714,  0.02700509,  0.07745719,  0.03065722,\n",
       "         0.14586282,  0.22551838, -0.02626914, -0.03282067, -0.00704398,\n",
       "         0.24018434,  0.1726562 ,  0.16515438, -0.05867841, -0.05434629,\n",
       "         0.12221987,  0.17561524], dtype=float32),\n",
       " array([[ 0.34433895, -0.15456395,  0.10627232, -0.02984568, -0.14990658,\n",
       "          0.27902153,  0.2973884 ,  0.18650782,  0.25807336, -0.3358325 ],\n",
       "        [ 0.35288084,  0.02101443,  0.2322898 , -0.41665635, -0.34923223,\n",
       "         -0.4097372 , -0.05578916,  0.17271577, -0.23036072,  0.30969676],\n",
       "        [ 0.29441854, -0.12977532,  0.02642458, -0.04875538, -0.57610613,\n",
       "         -0.38473827, -0.2169618 ,  0.2908052 ,  0.02736107, -0.17134678],\n",
       "        [ 0.03381792, -0.06249204,  0.22298735, -0.56539744,  0.26328343,\n",
       "          0.31172246, -0.01063335, -0.82758284,  0.08771528, -0.07532036],\n",
       "        [ 0.06340975, -0.7441429 ,  0.28753677, -0.19250305,  0.3547991 ,\n",
       "          0.16938773,  0.3858842 , -0.5357047 , -0.19432755, -0.508523  ],\n",
       "        [-0.11985488, -0.2226167 , -0.04937904, -0.31950104,  0.21674998,\n",
       "          0.31295973, -0.2949556 , -0.12447685,  0.3413571 , -0.39655906],\n",
       "        [-0.20765123, -0.39672384,  0.2659859 ,  0.29231676,  0.4077988 ,\n",
       "         -0.27205205,  0.46632162, -0.30785805, -0.13622686,  0.5726229 ],\n",
       "        [-0.19380152, -0.7368193 , -0.46562064,  0.3172073 ,  0.42415172,\n",
       "          0.211017  , -0.95130265,  0.05139525,  0.18301098, -0.3359653 ],\n",
       "        [ 0.23265155, -0.3945178 , -0.25405273, -0.14431542, -0.39325917,\n",
       "          0.0876673 ,  0.3067569 ,  0.2219945 ,  0.18302675, -0.41300192],\n",
       "        [ 0.08080054,  0.28343216,  0.40924495,  0.5010136 , -0.4210066 ,\n",
       "         -0.4389665 ,  0.419479  , -0.0431677 , -0.2814419 ,  0.07082948],\n",
       "        [ 0.2476603 , -0.99214816, -0.4976933 ,  0.4251042 , -0.5431099 ,\n",
       "          0.10563682, -0.23256509,  0.03582228, -0.290568  , -0.35945114],\n",
       "        [-0.04137309, -0.16557969, -0.06994837,  0.23465407, -0.04777129,\n",
       "          0.20467019, -0.0674358 ,  0.14645593, -0.19326562,  0.25708172],\n",
       "        [ 0.4308365 , -0.26212728, -0.18643789, -0.53074175, -0.13466182,\n",
       "         -0.06442901, -0.06293686,  0.3498661 ,  0.37720364, -0.49274918],\n",
       "        [-0.34789306,  0.40397304, -0.44543922,  0.25396815, -0.47318086,\n",
       "          0.46070203, -0.3210154 ,  0.04958751, -0.0937179 ,  0.2954892 ],\n",
       "        [-0.28959137, -0.2464219 ,  0.354631  ,  0.2454029 ,  0.24747817,\n",
       "         -0.33505902, -0.49215055,  0.47120377,  0.36054105,  0.12795034],\n",
       "        [-0.0926875 , -0.13241488, -0.16645946,  0.21424322, -0.33484432,\n",
       "          0.12409557,  0.04800605, -0.19316457,  0.19794282,  0.24433675],\n",
       "        [-0.11747885,  0.33776513,  0.29364488, -0.0660915 , -0.30579728,\n",
       "          0.01147882,  0.35582373,  0.3379336 ,  0.07086275,  0.39647517],\n",
       "        [ 0.01507615, -0.12853248, -0.56045014,  0.45027938,  0.32600415,\n",
       "         -0.259451  , -0.32196367,  0.17422156, -0.03902356, -0.42800674],\n",
       "        [-0.48872986,  0.40482402, -0.297107  , -0.08511978,  0.05400229,\n",
       "         -0.11782362, -0.18328471,  0.08972645, -0.12854393, -0.43338335],\n",
       "        [ 0.01935006, -0.43842524, -0.40463194,  0.42021567,  0.3302656 ,\n",
       "         -0.2058646 ,  0.12953445, -0.19336605, -0.28831938, -0.21773924],\n",
       "        [-0.46995175, -0.29022527, -0.29536435,  0.00750809,  0.3727939 ,\n",
       "         -0.3966326 , -0.307415  ,  0.5397013 , -0.41229746,  0.47840965],\n",
       "        [-0.2893013 ,  0.5241605 ,  0.5902634 , -0.14594306, -0.50675774,\n",
       "         -0.05759382, -0.49208474, -0.11954612, -0.01811078, -0.5591836 ],\n",
       "        [-0.11999785, -0.30927658, -0.34621924, -0.40794766,  0.19225337,\n",
       "         -0.32422826,  0.07420097, -0.24724714, -0.21938199,  0.28221944],\n",
       "        [ 0.29780564,  0.37594882, -0.13864097,  0.12124772,  0.04205382,\n",
       "          0.05208543, -0.4844331 , -0.14819598,  0.4813376 ,  0.5363816 ],\n",
       "        [-0.3147783 , -0.11618024,  0.16891362, -0.06587952,  0.291182  ,\n",
       "         -0.35968375, -0.30283552,  0.02264942,  0.04762384,  0.0799411 ],\n",
       "        [-0.40957144,  0.36153552, -0.623039  , -0.50082856,  0.27303085,\n",
       "         -0.0460037 ,  0.70000976, -0.28018224, -0.5356941 , -0.13156705],\n",
       "        [-0.65737057,  0.6624097 , -0.24015857, -0.23672596, -0.33120292,\n",
       "          0.05420407,  0.27286458, -0.1936006 ,  0.3959594 , -0.18623239],\n",
       "        [ 0.2760119 , -0.68711   , -0.00500294, -0.7147241 ,  0.44763836,\n",
       "         -0.54665315,  0.32001707,  0.30285695, -0.4118402 ,  0.16681471],\n",
       "        [-0.16808665, -0.20614071,  0.2739979 ,  0.2767601 ,  0.01653274,\n",
       "         -0.0364989 ,  0.01774856,  0.12758988,  0.00420588,  0.00822535],\n",
       "        [-0.19423804, -0.45770106,  0.47703803,  0.1394378 ,  0.00575583,\n",
       "          0.16089202, -0.17158382, -0.36699805, -0.15360539,  0.02519477],\n",
       "        [-0.46436033, -0.22512144, -0.06264371, -0.30818093,  0.634314  ,\n",
       "          0.2523867 ,  0.00573001, -0.12769647, -0.22574997, -0.1755222 ],\n",
       "        [-0.1844673 ,  0.13518184,  0.2178959 ,  0.3241163 , -0.03475454,\n",
       "          0.6761683 , -0.48809123,  0.03584822, -0.76165694, -0.74253005]],\n",
       "       dtype=float32),\n",
       " array([-0.07735391,  0.14574929, -0.0346606 , -0.08923033,  0.0354059 ,\n",
       "         0.00170303,  0.05348014,  0.03874275, -0.11959523,  0.01797702],\n",
       "       dtype=float32)]"
      ]
     },
     "execution_count": 83,
     "metadata": {},
     "output_type": "execute_result"
    }
   ],
   "source": [
    "model2.get_weights()"
   ]
  },
  {
   "cell_type": "code",
   "execution_count": 84,
   "metadata": {},
   "outputs": [
    {
     "data": {
      "text/plain": [
       "' Now we start with CNN '"
      ]
     },
     "execution_count": 84,
     "metadata": {},
     "output_type": "execute_result"
    }
   ],
   "source": [
    "\"\"\" Now we start with CNN \"\"\""
   ]
  },
  {
   "cell_type": "code",
   "execution_count": 85,
   "metadata": {},
   "outputs": [
    {
     "data": {
      "text/plain": [
       "(800, 784)"
      ]
     },
     "execution_count": 85,
     "metadata": {},
     "output_type": "execute_result"
    }
   ],
   "source": [
    "scaled_train_data.shape"
   ]
  },
  {
   "cell_type": "code",
   "execution_count": 86,
   "metadata": {},
   "outputs": [],
   "source": [
    "image_train_data=scaled_train_data.reshape(800,28,28)"
   ]
  },
  {
   "cell_type": "code",
   "execution_count": 87,
   "metadata": {},
   "outputs": [
    {
     "data": {
      "text/plain": [
       "(800, 28, 28)"
      ]
     },
     "execution_count": 87,
     "metadata": {},
     "output_type": "execute_result"
    }
   ],
   "source": [
    "image_train_data.shape"
   ]
  },
  {
   "cell_type": "code",
   "execution_count": 88,
   "metadata": {},
   "outputs": [
    {
     "data": {
      "text/plain": [
       "array([[0.        , 0.        , 0.        , 0.        , 0.        ,\n",
       "        0.        , 0.        , 0.        , 0.        , 0.        ,\n",
       "        0.        , 0.        , 0.        , 0.        , 0.        ,\n",
       "        0.        , 0.        , 0.        , 0.        , 0.        ,\n",
       "        0.        , 0.        , 0.        , 0.        , 0.        ,\n",
       "        0.        , 0.        , 0.        ],\n",
       "       [0.        , 0.        , 0.        , 0.        , 0.        ,\n",
       "        0.        , 0.        , 0.        , 0.        , 0.        ,\n",
       "        0.        , 0.        , 0.        , 0.        , 0.        ,\n",
       "        0.        , 0.        , 0.        , 0.        , 0.        ,\n",
       "        0.        , 0.        , 0.        , 0.        , 0.        ,\n",
       "        0.        , 0.        , 0.        ],\n",
       "       [0.        , 0.        , 0.        , 0.        , 0.        ,\n",
       "        0.        , 0.        , 0.        , 0.        , 0.        ,\n",
       "        0.        , 0.        , 0.        , 0.        , 0.        ,\n",
       "        0.        , 0.        , 0.        , 0.        , 0.        ,\n",
       "        0.        , 0.        , 0.        , 0.        , 0.        ,\n",
       "        0.        , 0.        , 0.        ],\n",
       "       [0.        , 0.        , 0.        , 0.        , 0.        ,\n",
       "        0.        , 0.        , 0.        , 0.        , 0.        ,\n",
       "        0.        , 0.        , 0.        , 0.        , 0.        ,\n",
       "        0.        , 0.        , 0.        , 0.        , 0.        ,\n",
       "        0.        , 0.        , 0.        , 0.        , 0.        ,\n",
       "        0.        , 0.        , 0.        ],\n",
       "       [0.        , 0.        , 0.        , 0.        , 0.        ,\n",
       "        0.        , 0.        , 0.        , 0.        , 0.        ,\n",
       "        0.        , 0.        , 0.        , 0.        , 0.        ,\n",
       "        0.        , 0.        , 0.        , 0.        , 0.        ,\n",
       "        0.        , 0.        , 0.        , 0.        , 0.        ,\n",
       "        0.        , 0.        , 0.        ],\n",
       "       [0.        , 0.        , 0.        , 0.        , 0.        ,\n",
       "        0.        , 0.        , 0.        , 0.        , 0.        ,\n",
       "        0.        , 0.        , 0.01176471, 0.07058824, 0.07058824,\n",
       "        0.07058824, 0.49411765, 0.53333333, 0.68627451, 0.10196078,\n",
       "        0.65098039, 1.        , 0.97244094, 0.5       , 0.        ,\n",
       "        0.        , 0.        , 0.        ],\n",
       "       [0.        , 0.        , 0.        , 0.        , 0.        ,\n",
       "        0.        , 0.        , 0.        , 0.11764706, 0.14173228,\n",
       "        0.37007874, 0.60629921, 0.66666667, 0.99215686, 0.99215686,\n",
       "        0.99215686, 0.99215686, 0.99215686, 0.88235294, 0.6745098 ,\n",
       "        0.99215686, 0.94901961, 0.76771654, 0.2519685 , 0.        ,\n",
       "        0.        , 0.        , 0.        ],\n",
       "       [0.        , 0.        , 0.        , 0.        , 0.        ,\n",
       "        0.        , 0.        , 0.19367589, 0.94071146, 0.99215686,\n",
       "        0.99215686, 0.99215686, 0.99215686, 0.99215686, 0.99215686,\n",
       "        0.99215686, 0.99215686, 0.98431373, 0.36470588, 0.32156863,\n",
       "        0.32156863, 0.21960784, 0.15354331, 0.        , 0.        ,\n",
       "        0.        , 0.        , 0.        ],\n",
       "       [0.        , 0.        , 0.        , 0.        , 0.        ,\n",
       "        0.        , 0.        , 0.07114625, 0.86561265, 0.99215686,\n",
       "        0.99215686, 0.99215686, 0.99215686, 0.99215686, 0.77647059,\n",
       "        0.71372549, 0.96862745, 0.94509804, 0.        , 0.        ,\n",
       "        0.        , 0.        , 0.        , 0.        , 0.        ,\n",
       "        0.        , 0.        , 0.        ],\n",
       "       [0.        , 0.        , 0.        , 0.        , 0.        ,\n",
       "        0.        , 0.        , 0.        , 0.31372549, 0.61176471,\n",
       "        0.41960784, 0.99215686, 0.99215686, 0.80392157, 0.04313725,\n",
       "        0.        , 0.16862745, 0.60629921, 0.        , 0.        ,\n",
       "        0.        , 0.        , 0.        , 0.        , 0.        ,\n",
       "        0.        , 0.        , 0.        ],\n",
       "       [0.        , 0.        , 0.        , 0.        , 0.        ,\n",
       "        0.        , 0.        , 0.        , 0.        , 0.05490196,\n",
       "        0.00392157, 0.60392157, 0.99215686, 0.35294118, 0.        ,\n",
       "        0.        , 0.        , 0.        , 0.        , 0.        ,\n",
       "        0.        , 0.        , 0.        , 0.        , 0.        ,\n",
       "        0.        , 0.        , 0.        ],\n",
       "       [0.        , 0.        , 0.        , 0.        , 0.        ,\n",
       "        0.        , 0.        , 0.        , 0.        , 0.        ,\n",
       "        0.        , 0.54509804, 0.99215686, 0.74509804, 0.00784314,\n",
       "        0.        , 0.        , 0.        , 0.        , 0.        ,\n",
       "        0.        , 0.        , 0.        , 0.        , 0.        ,\n",
       "        0.        , 0.        , 0.        ],\n",
       "       [0.        , 0.        , 0.        , 0.        , 0.        ,\n",
       "        0.        , 0.        , 0.        , 0.        , 0.        ,\n",
       "        0.        , 0.04313725, 0.74509804, 0.99215686, 0.2745098 ,\n",
       "        0.        , 0.        , 0.        , 0.        , 0.        ,\n",
       "        0.        , 0.        , 0.        , 0.        , 0.        ,\n",
       "        0.        , 0.        , 0.        ],\n",
       "       [0.        , 0.        , 0.        , 0.        , 0.        ,\n",
       "        0.        , 0.        , 0.        , 0.        , 0.        ,\n",
       "        0.        , 0.        , 0.1372549 , 0.9488189 , 0.88235294,\n",
       "        0.62745098, 0.42352941, 0.00392157, 0.        , 0.        ,\n",
       "        0.        , 0.        , 0.        , 0.        , 0.        ,\n",
       "        0.        , 0.        , 0.        ],\n",
       "       [0.        , 0.        , 0.        , 0.        , 0.        ,\n",
       "        0.        , 0.        , 0.        , 0.        , 0.        ,\n",
       "        0.        , 0.        , 0.        , 0.31764706, 0.94117647,\n",
       "        0.99215686, 0.99215686, 0.46666667, 0.09803922, 0.        ,\n",
       "        0.        , 0.        , 0.        , 0.        , 0.        ,\n",
       "        0.        , 0.        , 0.        ],\n",
       "       [0.        , 0.        , 0.        , 0.        , 0.        ,\n",
       "        0.        , 0.        , 0.        , 0.        , 0.        ,\n",
       "        0.        , 0.        , 0.        , 0.        , 0.17647059,\n",
       "        0.72941176, 0.99215686, 0.99215686, 0.58823529, 0.10588235,\n",
       "        0.        , 0.        , 0.        , 0.        , 0.        ,\n",
       "        0.        , 0.        , 0.        ],\n",
       "       [0.        , 0.        , 0.        , 0.        , 0.        ,\n",
       "        0.        , 0.        , 0.        , 0.        , 0.        ,\n",
       "        0.        , 0.        , 0.        , 0.        , 0.        ,\n",
       "        0.0627451 , 0.36470588, 0.98823529, 0.99215686, 0.73333333,\n",
       "        0.        , 0.        , 0.        , 0.        , 0.        ,\n",
       "        0.        , 0.        , 0.        ],\n",
       "       [0.        , 0.        , 0.        , 0.        , 0.        ,\n",
       "        0.        , 0.        , 0.        , 0.        , 0.        ,\n",
       "        0.        , 0.        , 0.        , 0.        , 0.        ,\n",
       "        0.        , 0.        , 0.97647059, 0.99215686, 0.97647059,\n",
       "        0.25098039, 0.        , 0.        , 0.        , 0.        ,\n",
       "        0.        , 0.        , 0.        ],\n",
       "       [0.        , 0.        , 0.        , 0.        , 0.        ,\n",
       "        0.        , 0.        , 0.        , 0.        , 0.        ,\n",
       "        0.        , 0.        , 0.        , 0.        , 0.18039216,\n",
       "        0.50980392, 0.71764706, 0.99215686, 0.99215686, 0.81176471,\n",
       "        0.00784314, 0.        , 0.        , 0.        , 0.        ,\n",
       "        0.        , 0.        , 0.        ],\n",
       "       [0.        , 0.        , 0.        , 0.        , 0.        ,\n",
       "        0.        , 0.        , 0.        , 0.        , 0.        ,\n",
       "        0.        , 0.        , 0.15294118, 0.58039216, 0.89803922,\n",
       "        0.99215686, 0.99215686, 0.99215686, 0.98039216, 0.71372549,\n",
       "        0.        , 0.        , 0.        , 0.        , 0.        ,\n",
       "        0.        , 0.        , 0.        ],\n",
       "       [0.        , 0.        , 0.        , 0.        , 0.        ,\n",
       "        0.        , 0.        , 0.        , 0.        , 0.        ,\n",
       "        0.09411765, 0.44705882, 0.86666667, 0.99215686, 0.99215686,\n",
       "        0.99215686, 0.99215686, 0.78823529, 0.30708661, 0.        ,\n",
       "        0.        , 0.        , 0.        , 0.        , 0.        ,\n",
       "        0.        , 0.        , 0.        ],\n",
       "       [0.        , 0.        , 0.        , 0.        , 0.        ,\n",
       "        0.        , 0.        , 0.        , 0.09019608, 0.25882353,\n",
       "        0.83529412, 0.99215686, 0.99215686, 0.99215686, 0.99215686,\n",
       "        0.77647059, 0.31764706, 0.00784314, 0.        , 0.        ,\n",
       "        0.        , 0.        , 0.        , 0.        , 0.        ,\n",
       "        0.        , 0.        , 0.        ],\n",
       "       [0.        , 0.        , 0.        , 0.        , 0.        ,\n",
       "        0.        , 0.07058824, 0.67058824, 0.85882353, 0.99215686,\n",
       "        0.99215686, 0.99215686, 0.99215686, 0.76470588, 0.31372549,\n",
       "        0.03529412, 0.        , 0.        , 0.        , 0.        ,\n",
       "        0.        , 0.        , 0.        , 0.        , 0.        ,\n",
       "        0.        , 0.        , 0.        ],\n",
       "       [0.        , 0.        , 0.        , 0.        , 0.30555556,\n",
       "        0.67716535, 0.88976378, 0.99606299, 0.99215686, 0.99215686,\n",
       "        0.99215686, 0.95686275, 0.52156863, 0.04313725, 0.        ,\n",
       "        0.        , 0.        , 0.        , 0.        , 0.        ,\n",
       "        0.        , 0.        , 0.        , 0.        , 0.        ,\n",
       "        0.        , 0.        , 0.        ],\n",
       "       [0.        , 0.        , 0.        , 0.        , 0.53543307,\n",
       "        0.99606299, 0.99606299, 1.        , 0.83137255, 0.52941176,\n",
       "        0.51764706, 0.0627451 , 0.        , 0.        , 0.        ,\n",
       "        0.        , 0.        , 0.        , 0.        , 0.        ,\n",
       "        0.        , 0.        , 0.        , 0.        , 0.        ,\n",
       "        0.        , 0.        , 0.        ],\n",
       "       [0.        , 0.        , 0.        , 0.        , 0.        ,\n",
       "        0.        , 0.        , 0.        , 0.        , 0.        ,\n",
       "        0.        , 0.        , 0.        , 0.        , 0.        ,\n",
       "        0.        , 0.        , 0.        , 0.        , 0.        ,\n",
       "        0.        , 0.        , 0.        , 0.        , 0.        ,\n",
       "        0.        , 0.        , 0.        ],\n",
       "       [0.        , 0.        , 0.        , 0.        , 0.        ,\n",
       "        0.        , 0.        , 0.        , 0.        , 0.        ,\n",
       "        0.        , 0.        , 0.        , 0.        , 0.        ,\n",
       "        0.        , 0.        , 0.        , 0.        , 0.        ,\n",
       "        0.        , 0.        , 0.        , 0.        , 0.        ,\n",
       "        0.        , 0.        , 0.        ],\n",
       "       [0.        , 0.        , 0.        , 0.        , 0.        ,\n",
       "        0.        , 0.        , 0.        , 0.        , 0.        ,\n",
       "        0.        , 0.        , 0.        , 0.        , 0.        ,\n",
       "        0.        , 0.        , 0.        , 0.        , 0.        ,\n",
       "        0.        , 0.        , 0.        , 0.        , 0.        ,\n",
       "        0.        , 0.        , 0.        ]])"
      ]
     },
     "execution_count": 88,
     "metadata": {},
     "output_type": "execute_result"
    }
   ],
   "source": [
    "image_train_data[0]"
   ]
  },
  {
   "cell_type": "code",
   "execution_count": 89,
   "metadata": {},
   "outputs": [
    {
     "data": {
      "text/plain": [
       "<AxesSubplot:>"
      ]
     },
     "execution_count": 89,
     "metadata": {},
     "output_type": "execute_result"
    },
    {
     "data": {
      "image/png": "[encoded data removed]",
      "text/plain": [
       "<Figure size 432x288 with 2 Axes>"
      ]
     },
     "metadata": {
      "needs_background": "light"
     },
     "output_type": "display_data"
    }
   ],
   "source": [
    "sns.heatmap(image_train_data[0])"
   ]
  },
  {
   "cell_type": "code",
   "execution_count": 90,
   "metadata": {},
   "outputs": [],
   "source": [
    "image_test_data=scaled_test_data.reshape(200,28,28)"
   ]
  },
  {
   "cell_type": "code",
   "execution_count": 91,
   "metadata": {},
   "outputs": [
    {
     "data": {
      "text/plain": [
       "<AxesSubplot:>"
      ]
     },
     "execution_count": 91,
     "metadata": {},
     "output_type": "execute_result"
    },
    {
     "data": {
      "image/png": "[encoded data removed]",
      "text/plain": [
       "<Figure size 432x288 with 2 Axes>"
      ]
     },
     "metadata": {
      "needs_background": "light"
     },
     "output_type": "display_data"
    }
   ],
   "source": [
    "sns.heatmap(image_test_data[0])"
   ]
  },
  {
   "cell_type": "code",
   "execution_count": 92,
   "metadata": {},
   "outputs": [],
   "source": [
    "# all the libraries required\n",
    "import tensorflow as tf\n",
    "import numpy as np\n",
    "from tensorflow.keras.models import Sequential\n",
    "from tensorflow.keras.layers import Dense,Conv2D,MaxPool2D,Flatten,Dropout\n"
   ]
  },
  {
   "cell_type": "code",
   "execution_count": null,
   "metadata": {},
   "outputs": [],
   "source": []
  },
  {
   "cell_type": "code",
   "execution_count": 93,
   "metadata": {},
   "outputs": [
    {
     "data": {
      "text/plain": [
       "array([[1],\n",
       "       [2],\n",
       "       [3],\n",
       "       [4],\n",
       "       [5]])"
      ]
     },
     "execution_count": 93,
     "metadata": {},
     "output_type": "execute_result"
    }
   ],
   "source": [
    "# here some shit about dimension conversion for cnn\n",
    "np.array([1,2,3,4,5]).reshape(5,1)"
   ]
  },
  {
   "cell_type": "code",
   "execution_count": 94,
   "metadata": {},
   "outputs": [],
   "source": [
    "image_train_data=scaled_train_data.reshape(800,28,28,1)\n",
    "image_test_data=scaled_test_data.reshape(200,28,28,1)"
   ]
  },
  {
   "cell_type": "code",
   "execution_count": 95,
   "metadata": {},
   "outputs": [
    {
     "name": "stdout",
     "output_type": "stream",
     "text": [
      "(28, 28, 1) 10\n"
     ]
    }
   ],
   "source": [
    "no_of_image_features = image_train_data.shape[1:]\n",
    "no_of_output = len(np.unique(train_label.values))\n",
    "print(no_of_image_features,no_of_output)"
   ]
  },
  {
   "cell_type": "code",
   "execution_count": null,
   "metadata": {},
   "outputs": [],
   "source": []
  },
  {
   "cell_type": "code",
   "execution_count": 96,
   "metadata": {},
   "outputs": [
    {
     "name": "stdout",
     "output_type": "stream",
     "text": [
      "CPU times: user 85.8 ms, sys: 41 µs, total: 85.9 ms\n",
      "Wall time: 126 ms\n"
     ]
    }
   ],
   "source": [
    "%%time\n",
    "# CNN model creation\n",
    "cnn_model = Sequential([\n",
    "    Conv2D(32, (3,3), input_shape = no_of_image_features, activation = 'relu'),\n",
    "    MaxPool2D((2,2)),\n",
    "    Flatten(),\n",
    "    Dense(units=64, activation = 'relu'),\n",
    "    Dropout(0.5),\n",
    "    Dense(units=no_of_output, activation = 'softmax')\n",
    "])"
   ]
  },
  {
   "cell_type": "code",
   "execution_count": 97,
   "metadata": {},
   "outputs": [],
   "source": [
    "# Model compilation step: specifying loss and configurations\n",
    "cnn_model.compile(optimizer = 'adam', loss = 'sparse_categorical_crossentropy', metrics = ['accuracy'])"
   ]
  },
  {
   "cell_type": "code",
   "execution_count": 98,
   "metadata": {},
   "outputs": [
    {
     "name": "stdout",
     "output_type": "stream",
     "text": [
      "Model: \"sequential_2\"\n",
      "_________________________________________________________________\n",
      "Layer (type)                 Output Shape              Param #   \n",
      "=================================================================\n",
      "conv2d (Conv2D)              (None, 26, 26, 32)        320       \n",
      "_________________________________________________________________\n",
      "max_pooling2d (MaxPooling2D) (None, 13, 13, 32)        0         \n",
      "_________________________________________________________________\n",
      "flatten (Flatten)            (None, 5408)              0         \n",
      "_________________________________________________________________\n",
      "dense_6 (Dense)              (None, 64)                346176    \n",
      "_________________________________________________________________\n",
      "dropout (Dropout)            (None, 64)                0         \n",
      "_________________________________________________________________\n",
      "dense_7 (Dense)              (None, 10)                650       \n",
      "=================================================================\n",
      "Total params: 347,146\n",
      "Trainable params: 347,146\n",
      "Non-trainable params: 0\n",
      "_________________________________________________________________\n"
     ]
    }
   ],
   "source": [
    "cnn_model.summary()"
   ]
  },
  {
   "cell_type": "code",
   "execution_count": 99,
   "metadata": {},
   "outputs": [
    {
     "name": "stdout",
     "output_type": "stream",
     "text": [
      "Epoch 1/30\n",
      "72/72 - 1s - loss: 2.0251 - accuracy: 0.4417 - val_loss: 1.5640 - val_accuracy: 0.6375\n",
      "Epoch 2/30\n",
      "72/72 - 0s - loss: 1.3579 - accuracy: 0.6986 - val_loss: 1.5565 - val_accuracy: 0.7750\n",
      "Epoch 3/30\n",
      "72/72 - 0s - loss: 1.0233 - accuracy: 0.7694 - val_loss: 1.2537 - val_accuracy: 0.7750\n",
      "Epoch 4/30\n",
      "72/72 - 0s - loss: 0.8052 - accuracy: 0.8208 - val_loss: 1.1674 - val_accuracy: 0.8250\n",
      "Epoch 5/30\n",
      "72/72 - 0s - loss: 0.7074 - accuracy: 0.8264 - val_loss: 1.4679 - val_accuracy: 0.8375\n",
      "Epoch 6/30\n",
      "72/72 - 0s - loss: 0.6548 - accuracy: 0.8556 - val_loss: 1.4220 - val_accuracy: 0.8625\n",
      "Epoch 7/30\n",
      "72/72 - 0s - loss: 0.4852 - accuracy: 0.8653 - val_loss: 1.4175 - val_accuracy: 0.8250\n",
      "Epoch 8/30\n",
      "72/72 - 0s - loss: 0.6119 - accuracy: 0.8736 - val_loss: 1.4870 - val_accuracy: 0.8500\n",
      "Epoch 9/30\n",
      "72/72 - 0s - loss: 0.4497 - accuracy: 0.8889 - val_loss: 1.3374 - val_accuracy: 0.8625\n",
      "Epoch 10/30\n",
      "72/72 - 0s - loss: 0.3529 - accuracy: 0.9222 - val_loss: 1.2923 - val_accuracy: 0.8750\n",
      "Epoch 11/30\n",
      "72/72 - 0s - loss: 0.4615 - accuracy: 0.9069 - val_loss: 1.3164 - val_accuracy: 0.8500\n",
      "Epoch 12/30\n",
      "72/72 - 0s - loss: 0.3828 - accuracy: 0.9069 - val_loss: 1.2711 - val_accuracy: 0.8625\n",
      "Epoch 13/30\n",
      "72/72 - 0s - loss: 0.3230 - accuracy: 0.9153 - val_loss: 1.2755 - val_accuracy: 0.8750\n",
      "Epoch 14/30\n",
      "72/72 - 0s - loss: 0.2656 - accuracy: 0.9347 - val_loss: 1.3573 - val_accuracy: 0.8875\n",
      "Epoch 15/30\n",
      "72/72 - 0s - loss: 0.3037 - accuracy: 0.9361 - val_loss: 1.5334 - val_accuracy: 0.8875\n",
      "Epoch 16/30\n",
      "72/72 - 0s - loss: 0.2412 - accuracy: 0.9375 - val_loss: 1.7425 - val_accuracy: 0.8500\n",
      "Epoch 17/30\n",
      "72/72 - 0s - loss: 0.2340 - accuracy: 0.9264 - val_loss: 1.6430 - val_accuracy: 0.8625\n",
      "Epoch 18/30\n",
      "72/72 - 0s - loss: 0.1969 - accuracy: 0.9417 - val_loss: 1.9370 - val_accuracy: 0.8750\n",
      "Epoch 19/30\n",
      "72/72 - 0s - loss: 0.2258 - accuracy: 0.9375 - val_loss: 1.9698 - val_accuracy: 0.8375\n",
      "Epoch 20/30\n",
      "72/72 - 0s - loss: 0.2745 - accuracy: 0.9375 - val_loss: 1.7732 - val_accuracy: 0.8625\n",
      "Epoch 21/30\n",
      "72/72 - 0s - loss: 0.2223 - accuracy: 0.9514 - val_loss: 1.8773 - val_accuracy: 0.8750\n",
      "Epoch 22/30\n",
      "72/72 - 0s - loss: 0.1725 - accuracy: 0.9542 - val_loss: 2.0626 - val_accuracy: 0.8500\n",
      "Epoch 23/30\n",
      "72/72 - 0s - loss: 0.2580 - accuracy: 0.9625 - val_loss: 1.8771 - val_accuracy: 0.8625\n",
      "Epoch 24/30\n",
      "72/72 - 0s - loss: 0.2220 - accuracy: 0.9556 - val_loss: 1.8316 - val_accuracy: 0.8500\n",
      "Epoch 25/30\n",
      "72/72 - 0s - loss: 0.1500 - accuracy: 0.9583 - val_loss: 2.1174 - val_accuracy: 0.8625\n",
      "Epoch 26/30\n",
      "72/72 - 0s - loss: 0.1208 - accuracy: 0.9653 - val_loss: 2.2609 - val_accuracy: 0.8625\n",
      "Epoch 27/30\n",
      "72/72 - 0s - loss: 0.1922 - accuracy: 0.9569 - val_loss: 2.0787 - val_accuracy: 0.8750\n",
      "Epoch 28/30\n",
      "72/72 - 0s - loss: 0.1312 - accuracy: 0.9653 - val_loss: 1.8274 - val_accuracy: 0.8875\n",
      "Epoch 29/30\n",
      "72/72 - 0s - loss: 0.2313 - accuracy: 0.9639 - val_loss: 1.8140 - val_accuracy: 0.8750\n",
      "Epoch 30/30\n",
      "72/72 - 0s - loss: 0.0960 - accuracy: 0.9667 - val_loss: 1.7113 - val_accuracy: 0.8875\n"
     ]
    },
    {
     "data": {
      "text/plain": [
       "<tensorflow.python.keras.callbacks.History at 0x7ff4383425e0>"
      ]
     },
     "execution_count": 99,
     "metadata": {},
     "output_type": "execute_result"
    }
   ],
   "source": [
    "# model fitting with validation set\n",
    "cnn_model.fit(image_train_data, train_label.values, validation_split = 0.1, batch_size = 10, epochs = 30, verbose = 2 )"
   ]
  },
  {
   "cell_type": "code",
   "execution_count": 100,
   "metadata": {},
   "outputs": [
    {
     "name": "stdout",
     "output_type": "stream",
     "text": [
      "7/7 [==============================] - 0s 8ms/step - loss: 0.3980 - accuracy: 0.8900\n",
      "loss_cnn =  0.39795586466789246  Accuracy_cnn =  0.8899999856948853\n"
     ]
    }
   ],
   "source": [
    "# let's see test perfomance\n",
    "# Run on CPU\n",
    "with tf.device('/cpu:0'):\n",
    "    loss, acc = cnn_model.evaluate(image_test_data, test_label.values, verbose=1)\n",
    "print(\"loss_cnn = \", loss, \" Accuracy_cnn = \", acc)"
   ]
  },
  {
   "cell_type": "code",
   "execution_count": 101,
   "metadata": {},
   "outputs": [
    {
     "name": "stdout",
     "output_type": "stream",
     "text": [
      "7/7 [==============================] - 1s 122ms/step\n"
     ]
    }
   ],
   "source": [
    "cnn_prediction = cnn_model.predict(image_test_data, verbose=1)"
   ]
  },
  {
   "cell_type": "code",
   "execution_count": 102,
   "metadata": {},
   "outputs": [],
   "source": [
    "rounded_cnn_prediction = np.argmax(cnn_prediction, axis = -1)"
   ]
  },
  {
   "cell_type": "code",
   "execution_count": 103,
   "metadata": {},
   "outputs": [
    {
     "data": {
      "text/plain": [
       "(200,)"
      ]
     },
     "execution_count": 103,
     "metadata": {},
     "output_type": "execute_result"
    }
   ],
   "source": [
    "rounded_cnn_prediction.shape"
   ]
  },
  {
   "cell_type": "code",
   "execution_count": 104,
   "metadata": {},
   "outputs": [
    {
     "name": "stdout",
     "output_type": "stream",
     "text": [
      "Confusion matrix, without normalization\n",
      "[[17  0  1  0  0  0  0  0  0  0]\n",
      " [ 0 18  0  0  0  0  0  0  0  0]\n",
      " [ 0  0 14  1  1  0  0  0  1  1]\n",
      " [ 1  0  0 17  0  1  1  0  0  0]\n",
      " [ 0  0  0  0 22  0  1  0  0  1]\n",
      " [ 0  0  0  1  0 17  1  0  1  0]\n",
      " [ 0  1  0  0  0  2 18  0  0  0]\n",
      " [ 0  0  0  0  1  0  0 28  0  2]\n",
      " [ 0  1  0  0  0  0  0  0 13  0]\n",
      " [ 1  0  0  0  0  0  0  1  0 14]]\n"
     ]
    },
    {
     "data": {
      "image/png": "[encoded data removed]",
      "text/plain": [
       "<Figure size 432x288 with 2 Axes>"
      ]
     },
     "metadata": {
      "needs_background": "light"
     },
     "output_type": "display_data"
    }
   ],
   "source": [
    "import itertools\n",
    "from sklearn.metrics import confusion_matrix\n",
    "cm = confusion_matrix(test_label.values, rounded_cnn_prediction)\n",
    "plot_confusion_matrix(cm, classes = [0,1,2,3,4,5,6,7,8,9])"
   ]
  },
  {
   "cell_type": "code",
   "execution_count": 105,
   "metadata": {},
   "outputs": [],
   "source": [
    "cnn_model.save('cnn_model1.h5')"
   ]
  },
  {
   "cell_type": "code",
   "execution_count": 106,
   "metadata": {},
   "outputs": [],
   "source": [
    "### Therefore normal Feed Forward NN gives accuracy = 0.8450000286102295\n",
    "### CNN NN gives accuracy = 0.8799999952316284\n",
    "### Thank You"
   ]
  },
  {
   "cell_type": "code",
   "execution_count": null,
   "metadata": {},
   "outputs": [],
   "source": []
  }
 ],
 "metadata": {
  "kernelspec": {
   "display_name": "Python 3",
   "language": "python",
   "name": "python3"
  },
  "language_info": {
   "codemirror_mode": {
    "name": "ipython",
    "version": 3
   },
   "file_extension": ".py",
   "mimetype": "text/x-python",
   "name": "python",
   "nbconvert_exporter": "python",
   "pygments_lexer": "ipython3",
   "version": "3.8.5"
  }
 },
 "nbformat": 4,
 "nbformat_minor": 4
}
